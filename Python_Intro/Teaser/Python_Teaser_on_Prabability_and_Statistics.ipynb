{
 "cells": [
  {
   "cell_type": "markdown",
   "metadata": {},
   "source": [
    "## Python Teaser on Probability and Statistics "
   ]
  },
  {
   "cell_type": "markdown",
   "metadata": {},
   "source": [
    "In this teaser we will deal with problems on fair 6-sided dice. To start with, workout the exercise 1 using pen and paper:\n",
    "\n",
    "####Note: An experiment of throwing two dice simultaneously is same as an experiment of throwing one die two times.\n",
    "\n",
    "###Exercise 1: Finding all possible outcomes of a die throws.\n",
    "\n",
    "1.How many Possible DICE THROW OUTCOMES are there if you threw a 6-sided die twice? Note that here getting a dice throw of 1 followed 2 i.e (1,2) is disctinct from 2 followed by 1 i.e.(2,1).\n",
    "\n",
    "* Hint 1: Write the possible outcomes for 1 throw of a fair 6-sided die. For every outcome of 1 throw of a die, write the possible outcomes of second throw of a die.\n",
    "\n",
    "* Hint 2: You can use list comprehenion to create a list of possible outcomes.\n",
    "\n",
    "2.From above exercise, can you find a relation between number of throws of a die and number of all possible outcomes of those throws?\n",
    "\n",
    "* If you have noticed the relation between a number of throws and its respective number of all possible outcomes then proceed :\n",
    "\n",
    "3.How many Possible DICE THROW OUTCOMES are there if you threw 'n' dice simultaneously? Write a psuedocode to solve this problem.\n",
    "\n",
    "\n",
    "4.Implement this pseudocode in python using only standard python functions. At this stage do not use any of the python modules to solve this problem. \n",
    "\n",
    "* Do this exercise for generating all possible outcomes of different number of dice throw. \n",
    "* What is the biggest number of dice for which you can generate all possible outcomes?\n",
    "\n",
    "###Exercise 2: Finding unique sums of die throws.\n",
    "\n",
    "####For following questions, write psuedocode and implement it in python using only standard python functions. \n",
    "\n",
    "1.How many UNIQUE SUMS are there if you added the values of 2 throws of a 6-sided die?\n",
    "\n",
    "* Hint: Use function sum() to create list of sums from a list of possible outcomes.\n",
    "\n",
    "2.Following the logic in exercise above find the number of UNIQUE SUMS for 'n' number of dice.\n",
    "\n",
    "* Hint: Define a function that takes 'n' arguments and gives a list of unique sums.\n",
    "\n",
    "###Exercise 3: Finding Average value of die throws.\n",
    "\n",
    "\n",
    "#####For following questions, write psuedocode and implement it in python using only standard python functions. \n",
    "\n",
    "1.What is the most likely sum from 2-throws of a 6-sided die? Most likely sum is the average value of die throws.\n",
    "\n",
    "* Hint: Average value = $\\sum [Sum \\times P(X = x)]$\n",
    "        Where P(X = x) is probability of occurrence of Sum.\n",
    "\n",
    "2.Write a python code for finding average value for 'n' dice throw.\n",
    "\n",
    "* What is the biggest number of dice for which you can get Average value of throw? Note the time taken by computer to generate the Average vaue of a throw of the biggest number of dice.\n",
    "\n",
    "* Can you explain why there is a long delay by computer in generating average value of throw for greater than 8 dice? \n",
    "\n",
    "###Exercise 4: Using Monte_Carlo method.\n",
    "\n",
    "1.Write a pseudocode for defining 'Black_box' which takes following two input:\n",
    "    1. 'n' number of dice\n",
    "    2. 'm' number of throws\n",
    "and generates sum and its respective probability for 'm' number of throws of 'n' number of dice.\n",
    "    \n",
    "2.Implement this pseudocode in python. Define a function named  'Black_box' to find the sums and probability of each sum from 'm' number of throws of 'n' number of dice.\n",
    "\n",
    "* Hint: For each throw of 'n' dice, you will get a random outcome. Hence create list of random outcomes only. This will avoid creating list of all possible outcomes and circumvent the CPU memory bottleneck.\n",
    "\n",
    "3.Using the Black_box defined above, find the most likely number of dice if their throws summed to 'k' (for example k = 51). \n",
    "\n",
    "* What is the likelihood for each possible number of dice given that sum = 'k' is observed? \n",
    "\n"
   ]
  },
  {
   "cell_type": "code",
   "execution_count": null,
   "metadata": {
    "collapsed": true
   },
   "outputs": [],
   "source": []
  }
 ],
 "metadata": {
  "kernelspec": {
   "display_name": "Python 2",
   "language": "python",
   "name": "python2"
  },
  "language_info": {
   "codemirror_mode": {
    "name": "ipython",
    "version": 2
   },
   "file_extension": ".py",
   "mimetype": "text/x-python",
   "name": "python",
   "nbconvert_exporter": "python",
   "pygments_lexer": "ipython2",
   "version": "2.7.6"
  }
 },
 "nbformat": 4,
 "nbformat_minor": 0
}
