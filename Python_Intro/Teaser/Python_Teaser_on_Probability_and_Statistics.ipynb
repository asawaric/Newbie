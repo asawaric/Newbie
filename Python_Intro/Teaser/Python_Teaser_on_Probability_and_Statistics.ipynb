{
 "cells": [
  {
   "cell_type": "markdown",
   "metadata": {},
   "source": [
    "## Python Teaser on Probability and Statistics "
   ]
  },
  {
   "cell_type": "markdown",
   "metadata": {},
   "source": [
    "In this teaser we will deal with problems on fair six-sided dice. To start with, workout exercise 1 using pen and paper.\n",
    "\n",
    "#### Note: An experiment of throwing two dice simultaneously is the same as an experiment of throwing one die twice.\n",
    "\n",
    "### Exercise 1: Finding possible outcomes of die throws.\n",
    "\n",
    "1. How many possible die throw outcomes are there if you threw a six-sided die twice? Note that here getting a die throw of 1 followed 2 (i.e [1, 2]) is distinct from 2 followed by 1 (i.e.[2, 1]).\n",
    "\n",
    "   * Hint 1: Die throws are independent.\n",
    "\n",
    "   * Hint 2: Use list comprehension to create a list of possible outcomes.\n",
    "\n",
    "2. From the above exercise, can you find a relation between the number of die throws and the number of possible outcomes of these throws?\n",
    "\n",
    "3. How many possible die throw outcomes are there if you threw *n* dice simultaneously? Write a pseudocode to solve this problem?\n",
    "\n",
    "4. Implement this pseudocode in Python using only standard Python functions. Do not import any of the Python modules to solve this problem.\n",
    "\n",
    "5. Do this exercise for generating all possible outcomes of different number of dice throw.\n",
    "\n",
    "6. What is the biggest number of dice for which you can generate possible outcomes?\n",
    "\n",
    "\n",
    "### Exercise 2: Finding unique sums of die throws.\n",
    "\n",
    "#### For the following questions, write a pseudocode and implement it in Python using only standard Python functions.\n",
    "\n",
    "1. How many unique sums are there if you added the values of two throws of a six-sided die?\n",
    "\n",
    "   * Hint: Use function sum() to create a list of sums from a list of possible outcomes.\n",
    "\n",
    "2. Following the logic in the above exercise find the number of unique sums for *n* number of dice.\n",
    "\n",
    "   * Hint: Define a function that takes *n* arguments and gives a list of unique sums.\n",
    "\n",
    "### Exercise 3: Finding the average value of die throws.\n",
    "\n",
    "\n",
    "#### For following questions, write a pseudocode and implement it in Python using only standard Python functions.\n",
    "\n",
    "1. What is the most likely sum from two-throws of a six-sided die? Most likely sum is the average value of die throws.\n",
    "   \n",
    "    * Hint: $$Average\\ value = \\sum\\limits_{S} [S \\times P(S)]$$\n",
    "        Where S is a sum and P(S) is the probability of occurrence of a sum.\n",
    "\n",
    "2. Write a Python code for finding average value of *n* dice throw.\n",
    "\n",
    "3. What is the biggest number of dice for which you can get the average value of a throw? Note the time taken by computer to generate the average value of a throw of the biggest number of dice.\n",
    "\n",
    "4. Can you explain why there is a long delay by computer in generating the average value of a throw for greater than 8 dice?\n",
    "\n",
    "### Exercise 4: Using the Monte Carlo method.\n",
    "\n",
    "1. Write a pseudocode for defining *Black_box* which takes following two input:\n",
    "    1. *n* number of dice.\n",
    "    2. *m* number of throws.\n",
    "\n",
    "   and generates sum and its respective probability for *m* number of throws of *n* number of dice.\n",
    "   \n",
    "2. Implement this pseudocode in Python.\n",
    "\n",
    "   * Hint: For each throw of *n* dice, you will get a random outcome. Hence create a list of random outcomes only.      This will avoid creating list of possible outcomes and circumvent the CPU memory bottleneck.\n",
    "\n",
    "3. Using the function *Black_box* defined above, find the most likely number of dice if their throws summed to *k*    (for example k = 51).\n",
    "\n",
    "4. What is the likelihood for each possible number of dice given that sum = *k* is observed?\n"
   ]
  }
 ],
 "metadata": {
  "kernelspec": {
   "display_name": "Python 2",
   "language": "python",
   "name": "python2"
  },
  "language_info": {
   "codemirror_mode": {
    "name": "ipython",
    "version": 2
   },
   "file_extension": ".py",
   "mimetype": "text/x-python",
   "name": "python",
   "nbconvert_exporter": "python",
   "pygments_lexer": "ipython2",
   "version": "2.7.6"
  }
 },
 "nbformat": 4,
 "nbformat_minor": 0
}
