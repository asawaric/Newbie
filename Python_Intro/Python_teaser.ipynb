{
 "cells": [
  {
   "cell_type": "markdown",
   "metadata": {},
   "source": [
    "### PYTHON_teaser\n",
    "\n",
    "In this tutorial we will see some of the probability based questions and their answers. Before that, lets understand what are the various terms and their concepts used in probability.\n",
    "\n",
    " * **Probability**: It is a possibility of outcome which may occur when we perform a random experiment.\n",
    "\n",
    "\n",
    " * **A random experiment**: Random experiment is a process that results in one of possible outcomes. The outcomes which can not be predicted with certainty.\n",
    "Examples of such random experiment are flipping a coin, throwing a dice, drawing a card etc.\n",
    "\n",
    "\n",
    " * **Sample Space of a random experiment**: Sample space is a list of all possible outcomes of a random experiment. Sample space is denoted by S.\n",
    "\n",
    "\n",
    " * **An Event** : An event is a outcome of an experiment. It is a subset of sample space and denoted by upper case letter.\n",
    "\n",
    "\n",
    " * **Probability of an event happening** = (Number of ways an event can occur/ Total number of outcomes)"
   ]
  },
  {
   "cell_type": "markdown",
   "metadata": {},
   "source": [
    "**Q.1 What is the AVERAGE VALUE if you threw a 6-sided die?** \n"
   ]
  },
  {
   "cell_type": "markdown",
   "metadata": {},
   "source": [
    "Answer:  For an experiment of a throw of single 6-sided die, the sample sapce S is\n",
    "         S = {1, 2, 3, 4, 5, 6}\n",
    "        \n",
    "Event A = Occurrence of number 1 on the face of a die = {1}\n",
    "Hence, probability of occurring number 1 on the face of a die = 1/6.\n",
    "Similarly, probability of all other outcomes is same and it is 1/6.\n",
    "        \n",
    "Average value of all the possible outcomes of this experiment can be calculated in the following way:\n",
    "        \n",
    "Average value = (1 x 1/6)+ (2 x 1/6) + (3 x 1/6) + (4 x 1/6) + (5 x 1/6) + (6 x 1/6)\n",
    "              = 21/6\n",
    "              = 3.5"
   ]
  },
  {
   "cell_type": "markdown",
   "metadata": {},
   "source": [
    "**Q.2 How many POSSIBLE DICE-THROW OUTCOMES are there if you threw a 6-sided die twice? Note that here getting a dice throw of 1 followed 2 is distinct from 2 followed by 1.**"
   ]
  },
  {
   "cell_type": "markdown",
   "metadata": {},
   "source": [
    "Answer : Number of possible outcomes from a throw of single 6-sided die = 6\n",
    "\n",
    "For every outcome of 1st throw of a 6-sided die there will be 6 possible outcomes from a second throw of 6-sided die.\n",
    "         \n",
    "Therefore, Total number of POSSIBLE DICE-THROW OUTCOMES =\n",
    "(Number of possible outcomes from a first throw of a die) X (Number of possible outcomes from a second throw of a die for each outcome of a first throw of a die) = 6x6 = 36\n",
    "\n",
    "The answer can be verified from the sample space given below.\n",
    "The sample space S of this experiment is = S =\n",
    "         \n",
    "{(1, 1), (1, 2), (1, 3), (1, 4), (1, 5), (1, 6),\n",
    "\n",
    "(2, 1), (2, 2), (2, 3), (2, 4), (2, 5), (2, 6),\n",
    "\n",
    "(3, 1), (3, 2), (3, 3), (3, 4), (3, 5), (3, 6),\n",
    "\n",
    "(4, 1), (4, 2), (4, 3), (4, 4), (4, 5), (4, 6),\n",
    "\n",
    "(5, 1), (5, 2), (5, 3), (5, 4), (5, 5), (5, 6),\n",
    "\n",
    "(6, 1), (6, 2), (6, 3), (6, 4), (6, 5), (6, 6)}"
   ]
  },
  {
   "cell_type": "markdown",
   "metadata": {},
   "source": [
    "**Q.3 How many POSSIBLE DICE-THROW OUTCOMES are there if you threw a 6-sided die 10 times?**"
   ]
  },
  {
   "cell_type": "markdown",
   "metadata": {},
   "source": [
    "Answer: From the answer to question 2 given above, we know that, for every throw of a single 6-sided die, the number of possible outcomes are 6. And for each of these 6 outcomes there will be 6 possible outcomes for every subsequent throw of a single 6-sided die.\n",
    "So, in 10 throws of a single 6-sided die the possible outcomes = 6^10 = 60466176"
   ]
  },
  {
   "cell_type": "markdown",
   "metadata": {},
   "source": [
    "**Q.4 How many UNIQUE SUMS are there if you added the values of 2 throws of a 6-sided die?**"
   ]
  },
  {
   "cell_type": "markdown",
   "metadata": {},
   "source": [
    "Answer: Consider the sample space S given in the answer to question 2.\n",
    "From the sample space, we can see that **minimum sum is 2** from an event (1,1) and **maximum sum is 12** from an event (6,6). \n",
    "The number of UNIQUE SUMS of outcomes of this experiment is between 2 and 12 (both 2 and 12 inclusive) which is 11."
   ]
  },
  {
   "cell_type": "markdown",
   "metadata": {},
   "source": [
    "**Q.5 How many UNIQUE SUMS are there if you added the values of 10 throws of a 6-sided die?**"
   ]
  },
  {
   "cell_type": "markdown",
   "metadata": {},
   "source": [
    "Answer: For an experiment of 10 throws of a 6-sided die, the minimum sum will occur in the event (1,1,1,1,1,1,1,1,1,1) = 10\n",
    "and the maximum sum will occur in the event (6,6,6,6,6,6,6,6,6,6) = 60. The sum of all other events will be between 10 and 60.\n",
    "\n",
    "The number of UNIQUE SUMS of outcomes of this experiment is between 10 and 60(both 10 and 60 inclusive) which is 51."
   ]
  },
  {
   "cell_type": "markdown",
   "metadata": {},
   "source": [
    "**Q.6 What is the most likely sum from 2 throws of a 6-sided die?**"
   ]
  },
  {
   "cell_type": "markdown",
   "metadata": {},
   "source": [
    "Answer: Most likely sum from two throws of a 6-sided die is calculated using following formula:\n",
    "        \n",
    "**Most likely sum = N x (Average value of single throw of a 6-sided die)**\n",
    "\n",
    "where N =  number of dies thrown concurrently or number of times a single die is thrown and Average value of single throw of a 6-sided die is 3.5 (refer answer to question 1)\n",
    "                         \n",
    "Therefore, Most likely sum = 2 X 3.5 = 7\n",
    "                "
   ]
  },
  {
   "cell_type": "markdown",
   "metadata": {},
   "source": [
    "**Q.7 What is the most likely sum from 100 throws of a 6-sided die?**"
   ]
  },
  {
   "cell_type": "markdown",
   "metadata": {},
   "source": [
    "Answer : From the answer to question 6 above, \n",
    "\n",
    "Most likely sum from 100 throws of a 6-sided = 100 x 3.5 =350"
   ]
  },
  {
   "cell_type": "code",
   "execution_count": null,
   "metadata": {
    "collapsed": true
   },
   "outputs": [],
   "source": []
  }
 ],
 "metadata": {
  "kernelspec": {
   "display_name": "Python 2",
   "language": "python",
   "name": "python2"
  },
  "language_info": {
   "codemirror_mode": {
    "name": "ipython",
    "version": 2
   },
   "file_extension": ".py",
   "mimetype": "text/x-python",
   "name": "python",
   "nbconvert_exporter": "python",
   "pygments_lexer": "ipython2",
   "version": "2.7.6"
  }
 },
 "nbformat": 4,
 "nbformat_minor": 0
}
