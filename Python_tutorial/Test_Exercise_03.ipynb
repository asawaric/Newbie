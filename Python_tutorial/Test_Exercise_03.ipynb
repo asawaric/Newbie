{
 "cells": [
  {
   "cell_type": "code",
   "execution_count": 2,
   "metadata": {
    "collapsed": false
   },
   "outputs": [
    {
     "data": {
      "text/plain": [
       "[13, 26, 39, 52, 65, 78, 91, 104, 117, 130, 143, 156, 169, 182, 195]"
      ]
     },
     "execution_count": 2,
     "metadata": {},
     "output_type": "execute_result"
    }
   ],
   "source": [
    "def divisible_by_13(x): return ((x%13)==0)\n",
    "filter(divisible_by_13, range(1,200))"
   ]
  },
  {
   "cell_type": "code",
   "execution_count": 24,
   "metadata": {
    "collapsed": false
   },
   "outputs": [
    {
     "data": {
      "text/plain": [
       "66934480297716745754616576000L"
      ]
     },
     "execution_count": 24,
     "metadata": {},
     "output_type": "execute_result"
    }
   ],
   "source": [
    "def divisible_by_13(x): return ((x%13)==0)\n",
    "a = (filter(divisible_by_13, range(1,200)))\n",
    "reduce(lambda x, y: x * y, a)"
   ]
  },
  {
   "cell_type": "code",
   "execution_count": 11,
   "metadata": {
    "collapsed": false
   },
   "outputs": [
    {
     "data": {
      "text/plain": [
       "114920"
      ]
     },
     "execution_count": 11,
     "metadata": {},
     "output_type": "execute_result"
    }
   ],
   "source": [
    "# My answer to the third part is written below. \n",
    "# This answer should be moved to an answers file before releasing to students.\n",
    "def divisible_by_13(x): return ((x%13)==0)&((x%2)!=0)\n",
    "def sum(x,y): return x+y\n",
    "def squared(x): return x*x\n",
    "reduce(sum, map(squared, filter(divisible_by_13, range(1,200))))"
   ]
  },
  {
   "cell_type": "code",
   "execution_count": 13,
   "metadata": {
    "collapsed": false
   },
   "outputs": [
    {
     "data": {
      "text/plain": [
       "[13, 39, 65, 91, 117, 143, 169, 195]"
      ]
     },
     "execution_count": 13,
     "metadata": {},
     "output_type": "execute_result"
    }
   ],
   "source": [
    "def divisible_by_13(x): return ((x%13)==0)&((x%2)!=0)\n",
    "filter(divisible_by_13, range(1,200))"
   ]
  },
  {
   "cell_type": "code",
   "execution_count": 27,
   "metadata": {
    "collapsed": false
   },
   "outputs": [
    {
     "name": "stdout",
     "output_type": "stream",
     "text": [
      "66934480297716745754616576000\n"
     ]
    }
   ],
   "source": [
    "def divisible_by_13(x): return ((x%13)==0)\n",
    "(filter(divisible_by_13, range(1,200)))\n",
    "product = lambda x, y: x * y\n",
    "print reduce(product, (filter(divisible_by_13, range(1,200))))"
   ]
  },
  {
   "cell_type": "code",
   "execution_count": 28,
   "metadata": {
    "collapsed": false
   },
   "outputs": [
    {
     "name": "stdout",
     "output_type": "stream",
     "text": [
      "Enter a string to be appended to this list. Type ! to discontinue\n",
      "new\n",
      "Enter a string to be appended to this list. Type ! to discontinue\n",
      "yes\n",
      "Enter a string to be appended to this list. Type ! to discontinue\n",
      "old\n",
      "Enter a string to be appended to this list. Type ! to discontinue\n",
      "No\n",
      "Enter a string to be appended to this list. Type ! to discontinue\n",
      "!\n",
      "******************************************************************************** \n",
      "\n",
      "new\n",
      "yes\n",
      "old\n",
      "No\n"
     ]
    }
   ],
   "source": [
    "ans_array = []\n",
    "while True:\n",
    "    in_str = raw_input(\"Enter a string to be appended to this list. Type ! to discontinue\\n\")\n",
    "    if in_str not in ['!']: \n",
    "        ans_array.append(in_str)\n",
    "    else:\n",
    "        break\n",
    "print \"*\"*80, \"\\n\"\n",
    "for a in ans_array:\n",
    "    print a"
   ]
  },
  {
   "cell_type": "code",
   "execution_count": 31,
   "metadata": {
    "collapsed": false
   },
   "outputs": [
    {
     "data": {
      "text/plain": [
       "[5, 6, 7, 8, 9, 10, 11, 12, 13, 14]"
      ]
     },
     "execution_count": 31,
     "metadata": {},
     "output_type": "execute_result"
    }
   ],
   "source": [
    "range(5, 15)"
   ]
  },
  {
   "cell_type": "code",
   "execution_count": 33,
   "metadata": {
    "collapsed": false
   },
   "outputs": [
    {
     "data": {
      "text/plain": [
       "xrange(5, 15, 2)"
      ]
     },
     "execution_count": 33,
     "metadata": {},
     "output_type": "execute_result"
    }
   ],
   "source": [
    "xrange(5, 15, 2)"
   ]
  },
  {
   "cell_type": "code",
   "execution_count": 34,
   "metadata": {
    "collapsed": false
   },
   "outputs": [
    {
     "data": {
      "text/plain": [
       "[100, 1000, 10000, 400, 8000, 160000, 900, 27000, 810000]"
      ]
     },
     "execution_count": 34,
     "metadata": {},
     "output_type": "execute_result"
    }
   ],
   "source": [
    "#List comprehension example\n",
    "\n",
    "result = []\n",
    "result = [ x ** y for x in [10, 20, 30] for y in [2, 3, 4]]\n",
    "result"
   ]
  },
  {
   "cell_type": "code",
   "execution_count": 7,
   "metadata": {
    "collapsed": false
   },
   "outputs": [
    {
     "data": {
      "text/plain": [
       "[0, 1, 8, 27, 64, 125, 216, 343, 512, 729, 1000]"
      ]
     },
     "execution_count": 7,
     "metadata": {},
     "output_type": "execute_result"
    }
   ],
   "source": [
    " Cubes = [x**3 for x in range(11)]\n",
    " Cubes"
   ]
  },
  {
   "cell_type": "code",
   "execution_count": 8,
   "metadata": {
    "collapsed": false
   },
   "outputs": [
    {
     "data": {
      "text/plain": [
       "['A', 'E', 'A', 'I']"
      ]
     },
     "execution_count": 8,
     "metadata": {},
     "output_type": "execute_result"
    }
   ],
   "source": [
    "[x for x in 'MATHEMATICS' if x in ['A','E','I','O','U']]"
   ]
  },
  {
   "cell_type": "code",
   "execution_count": 9,
   "metadata": {
    "collapsed": false
   },
   "outputs": [
    {
     "data": {
      "text/plain": [
       "[(3, 4, 5),\n",
       " (5, 12, 13),\n",
       " (6, 8, 10),\n",
       " (7, 24, 25),\n",
       " (8, 15, 17),\n",
       " (9, 12, 15),\n",
       " (10, 24, 26),\n",
       " (12, 16, 20),\n",
       " (15, 20, 25),\n",
       " (20, 21, 29)]"
      ]
     },
     "execution_count": 9,
     "metadata": {},
     "output_type": "execute_result"
    }
   ],
   "source": [
    "#Nested list comprehension example\n",
    "[(x,y,z) for x in range(1,30) for y in range(x,30) for z in range(y,30) if x**2 + y**2 == z**2]"
   ]
  },
  {
   "cell_type": "code",
   "execution_count": 10,
   "metadata": {
    "collapsed": false
   },
   "outputs": [
    {
     "data": {
      "text/plain": [
       "[(3, 4, 5), (5, 12, 13), (6, 8, 10), (8, 15, 17), (9, 12, 15)]"
      ]
     },
     "execution_count": 10,
     "metadata": {},
     "output_type": "execute_result"
    }
   ],
   "source": [
    "[(x,y,z) for x in range(1,20) for y in range(x,20) for z in range(y,20) if x**2 + y**2 == z**2]"
   ]
  },
  {
   "cell_type": "code",
   "execution_count": 11,
   "metadata": {
    "collapsed": false
   },
   "outputs": [
    {
     "data": {
      "text/plain": [
       "[(1, 1),\n",
       " (2, 2),\n",
       " (2, 1),\n",
       " (3, 2),\n",
       " (3, 3),\n",
       " (3, 1),\n",
       " (4, 2),\n",
       " (4, 4),\n",
       " (4, 3),\n",
       " (4, 1)]"
      ]
     },
     "execution_count": 11,
     "metadata": {},
     "output_type": "execute_result"
    }
   ],
   "source": [
    "[(x, y) for x in [1, 2, 3, 4] for y in [2, 4, 3, 1] if x >= y]"
   ]
  },
  {
   "cell_type": "code",
   "execution_count": 32,
   "metadata": {
    "collapsed": false
   },
   "outputs": [
    {
     "data": {
      "text/plain": [
       "(('Physics', 'Biology'), ('Chemistry', 'Mathematics'))"
      ]
     },
     "execution_count": 32,
     "metadata": {},
     "output_type": "execute_result"
    }
   ],
   "source": [
    "#Tuples example\n",
    "tup1 = 'Physics', 'Biology', '1.4567', '2.1345'\n",
    "tup2 = 'Chemistry', 'Mathematics', '5698', '3427'\n",
    "#tup3 = tup1[0:2] + tup2[0:2]\n",
    "#tup4 = tup1[2:4] + tup2[2:4]\n",
    "#print tup3\n",
    "#print tup4\n",
    "tup3 = tup1[0:2], tup2[0:2]\n",
    "tup4 = tup1[2:4], tup2[2:4]\n",
    "tup3"
   ]
  },
  {
   "cell_type": "code",
   "execution_count": 34,
   "metadata": {
    "collapsed": false
   },
   "outputs": [
    {
     "data": {
      "text/plain": [
       "{'d', 'r'}"
      ]
     },
     "execution_count": 34,
     "metadata": {},
     "output_type": "execute_result"
    }
   ],
   "source": [
    "#Sets example\n",
    "a = {x for x in 'abracadabra' if x not in 'abc'}\n",
    "a"
   ]
  },
  {
   "cell_type": "code",
   "execution_count": 47,
   "metadata": {
    "collapsed": false
   },
   "outputs": [
    {
     "data": {
      "text/plain": [
       "{'Chemistry', 'Physics'}"
      ]
     },
     "execution_count": 47,
     "metadata": {},
     "output_type": "execute_result"
    }
   ],
   "source": [
    "a = set([\"Physics\", \"Biology\", \"Chemistry\", \"Mathematics\"])\n",
    "b = set([\"Geology\", \"Statistics\", \"Mathematics\", \"Biology\", \"Sociology\"])\n",
    "a\n",
    "b\n",
    "c = set({x for x in (a) if x not in (b)})\n",
    "c"
   ]
  },
  {
   "cell_type": "code",
   "execution_count": 46,
   "metadata": {
    "collapsed": false
   },
   "outputs": [
    {
     "data": {
      "text/plain": [
       "{'d', 'r'}"
      ]
     },
     "execution_count": 46,
     "metadata": {},
     "output_type": "execute_result"
    }
   ],
   "source": [
    "a = set({x for x in 'abracadabra' if x not in 'abc'})\n",
    "a"
   ]
  },
  {
   "cell_type": "code",
   "execution_count": 63,
   "metadata": {
    "collapsed": false
   },
   "outputs": [
    {
     "name": "stdout",
     "output_type": "stream",
     "text": [
      "x\n",
      "x\n",
      "x\n",
      "x\n"
     ]
    }
   ],
   "source": [
    "#Sequence unpacking example => Need to debug the code\n",
    "my_seq = ['ACME', 50, 94.5, (2016, 06, 24)] \n",
    "name, price, shares, (year, month, date) = my_seq\n",
    "#print year, month, date, shares, price, name\n",
    "for x in my_seq:\n",
    "    print 'x'.format(name, price, shares, year, month, date)"
   ]
  },
  {
   "cell_type": "code",
   "execution_count": 64,
   "metadata": {
    "collapsed": false
   },
   "outputs": [
    {
     "name": "stdout",
     "output_type": "stream",
     "text": [
      "{'blue': 'blau', 'green': 'gr\\xc3\\xbcn', 'yellow': 'gelb', 'red': 'rot'}\n",
      "rot\n"
     ]
    }
   ],
   "source": [
    "#Dictionaries example\n",
    "\n",
    "en_de = {\"red\" : \"rot\", \"green\" : \"grün\", \"blue\" : \"blau\", \"yellow\":\"gelb\"}\n",
    "print en_de\n",
    "print en_de[\"red\"]"
   ]
  },
  {
   "cell_type": "code",
   "execution_count": 65,
   "metadata": {
    "collapsed": false
   },
   "outputs": [
    {
     "name": "stdout",
     "output_type": "stream",
     "text": [
      "----------\n",
      "NY State has:  New York\n",
      "OR State has:  Portland\n"
     ]
    }
   ],
   "source": [
    "# create a mapping of state to abbreviation\n",
    "states = {\n",
    "    'Oregon': 'OR',\n",
    "    'Florida': 'FL',\n",
    "    'California': 'CA',\n",
    "    'New York': 'NY',\n",
    "    'Michigan': 'MI'\n",
    "}\n",
    "\n",
    "# create a basic set of states and some cities in them\n",
    "cities = {\n",
    "    'CA': 'San Francisco',\n",
    "    'MI': 'Detroit',\n",
    "    'FL': 'Jacksonville'\n",
    "}\n",
    "\n",
    "# add some more cities\n",
    "cities['NY'] = 'New York'\n",
    "cities['OR'] = 'Portland'\n",
    "# print out some cities\n",
    "print '-' * 10\n",
    "print \"NY State has: \", cities['NY']\n",
    "print \"OR State has: \", cities['OR']"
   ]
  },
  {
   "cell_type": "code",
   "execution_count": 66,
   "metadata": {
    "collapsed": false
   },
   "outputs": [
    {
     "name": "stdout",
     "output_type": "stream",
     "text": [
      "----------\n",
      "California is abbreviated CA\n",
      "Michigan is abbreviated MI\n",
      "New York is abbreviated NY\n",
      "Florida is abbreviated FL\n",
      "Oregon is abbreviated OR\n"
     ]
    }
   ],
   "source": [
    "# print every state abbreviation\n",
    "print '-' * 10\n",
    "for state, abbrev in states.items():\n",
    "    print \"%s is abbreviated %s\" % (state, abbrev)"
   ]
  },
  {
   "cell_type": "code",
   "execution_count": 121,
   "metadata": {
    "collapsed": false
   },
   "outputs": [
    {
     "ename": "SyntaxError",
     "evalue": "invalid syntax (<ipython-input-121-252d82943dee>, line 6)",
     "output_type": "error",
     "traceback": [
      "\u001b[1;36m  File \u001b[1;32m\"<ipython-input-121-252d82943dee>\"\u001b[1;36m, line \u001b[1;32m6\u001b[0m\n\u001b[1;33m    grocery_bill = sum((float([prices[fruit] * my_purchase[fruit])) for fruit in my_purchase])\u001b[0m\n\u001b[1;37m                                                                 ^\u001b[0m\n\u001b[1;31mSyntaxError\u001b[0m\u001b[1;31m:\u001b[0m invalid syntax\n"
     ]
    }
   ],
   "source": [
    "#Need to debug the code\n",
    "prices = {'apple': 0.40, 'banana': 0.50}\n",
    "my_purchase = {\n",
    "    'apple': 1,\n",
    "    'banana': 6}\n",
    "grocery_bill = sum((float([prices[fruit] * my_purchase[fruit])) for fruit in my_purchase])\n"
   ]
  },
  {
   "cell_type": "code",
   "execution_count": 92,
   "metadata": {
    "collapsed": false
   },
   "outputs": [
    {
     "ename": "TypeError",
     "evalue": "sum() takes exactly 2 arguments (1 given)",
     "output_type": "error",
     "traceback": [
      "\u001b[1;31m---------------------------------------------------------------------------\u001b[0m",
      "\u001b[1;31mTypeError\u001b[0m                                 Traceback (most recent call last)",
      "\u001b[1;32m<ipython-input-92-88f6a299b20b>\u001b[0m in \u001b[0;36m<module>\u001b[1;34m()\u001b[0m\n\u001b[0;32m      4\u001b[0m     'banana': 6}\n\u001b[0;32m      5\u001b[0m \u001b[0ma\u001b[0m \u001b[1;33m=\u001b[0m \u001b[1;33m[\u001b[0m\u001b[0mprices\u001b[0m\u001b[1;33m[\u001b[0m\u001b[0mfruit\u001b[0m\u001b[1;33m]\u001b[0m \u001b[1;33m*\u001b[0m \u001b[0mmy_purchase\u001b[0m\u001b[1;33m[\u001b[0m\u001b[0mfruit\u001b[0m\u001b[1;33m]\u001b[0m \u001b[1;32mfor\u001b[0m \u001b[0mfruit\u001b[0m \u001b[1;32min\u001b[0m \u001b[0mmy_purchase\u001b[0m\u001b[1;33m]\u001b[0m\u001b[1;33m\u001b[0m\u001b[0m\n\u001b[1;32m----> 6\u001b[1;33m \u001b[0mgrocery_bill\u001b[0m \u001b[1;33m=\u001b[0m \u001b[0msum\u001b[0m\u001b[1;33m(\u001b[0m\u001b[0ma\u001b[0m\u001b[1;33m)\u001b[0m\u001b[1;33m\u001b[0m\u001b[0m\n\u001b[0m\u001b[0;32m      7\u001b[0m \u001b[1;31m#print 'I owe the grocer $%.2f' % grocery_bill\u001b[0m\u001b[1;33m\u001b[0m\u001b[1;33m\u001b[0m\u001b[0m\n",
      "\u001b[1;31mTypeError\u001b[0m: sum() takes exactly 2 arguments (1 given)"
     ]
    }
   ],
   "source": [
    "prices = {'apple': 0.40, 'banana': 0.50}\n",
    "my_purchase = {\n",
    "    'apple': 1,\n",
    "    'banana': 6}\n",
    "a = [prices[fruit] * my_purchase[fruit] for fruit in my_purchase]\n",
    "grocery_bill = sum(a)"
   ]
  },
  {
   "cell_type": "code",
   "execution_count": 119,
   "metadata": {
    "collapsed": false
   },
   "outputs": [
    {
     "name": "stdout",
     "output_type": "stream",
     "text": [
      "{'Melon': 3.5, 'Pear': 0.7, 'Apple': 0.8, 'Banana': 0.4}\n",
      "{'Melon': 1, 'Pear': 4, 'Apple': 1, 'Banana': 6}\n",
      "['Melon', 'Pear', 'Apple', 'Banana']\n",
      "[3.5, 2.8, 0.8, 2.4000000000000004]\n"
     ]
    },
    {
     "ename": "TypeError",
     "evalue": "sum() takes exactly 2 arguments (1 given)",
     "output_type": "error",
     "traceback": [
      "\u001b[1;31m---------------------------------------------------------------------------\u001b[0m",
      "\u001b[1;31mTypeError\u001b[0m                                 Traceback (most recent call last)",
      "\u001b[1;32m<ipython-input-119-62737bbd9ed1>\u001b[0m in \u001b[0;36m<module>\u001b[1;34m()\u001b[0m\n\u001b[0;32m     12\u001b[0m \u001b[1;32mprint\u001b[0m \u001b[0mmy_purchase\u001b[0m\u001b[1;33m.\u001b[0m\u001b[0mkeys\u001b[0m\u001b[1;33m(\u001b[0m\u001b[1;33m)\u001b[0m\u001b[1;33m\u001b[0m\u001b[0m\n\u001b[0;32m     13\u001b[0m \u001b[1;32mprint\u001b[0m \u001b[0ma\u001b[0m\u001b[1;33m\u001b[0m\u001b[0m\n\u001b[1;32m---> 14\u001b[1;33m \u001b[1;32mprint\u001b[0m \u001b[0msum\u001b[0m\u001b[1;33m(\u001b[0m\u001b[0ma\u001b[0m\u001b[1;33m)\u001b[0m\u001b[1;33m\u001b[0m\u001b[0m\n\u001b[0m",
      "\u001b[1;31mTypeError\u001b[0m: sum() takes exactly 2 arguments (1 given)"
     ]
    }
   ],
   "source": [
    "prices = dict([('Apple', 0.8), ('Orange', 0.6), ('Pear', 0.7), ('Banana', 0.4)])\n",
    "del prices['Orange']\n",
    "prices['Melon'] = 3.5\n",
    "print prices\n",
    "my_purchase = {'Apple': 1, 'Banana': 6, 'Pear':4, 'Melon':1}\n",
    "print my_purchase\n",
    "a = [prices[fruit] * my_purchase[fruit] for fruit in my_purchase]\n",
    "a\n",
    "#sum((prices[fruit], my_purchase[fruit]) for fruit in my_purchase)\n",
    "#b = sum(a)\n",
    "prices.keys()\n",
    "print my_purchase.keys()\n",
    "print a\n",
    "print sum(a)\n"
   ]
  },
  {
   "cell_type": "code",
   "execution_count": 133,
   "metadata": {
    "collapsed": false
   },
   "outputs": [
    {
     "ename": "SyntaxError",
     "evalue": "invalid syntax (<ipython-input-133-4aa9034f220c>, line 1)",
     "output_type": "error",
     "traceback": [
      "\u001b[1;36m  File \u001b[1;32m\"<ipython-input-133-4aa9034f220c>\"\u001b[1;36m, line \u001b[1;32m1\u001b[0m\n\u001b[1;33m    {(x, y): x**2, y**3 for x in (2, 4, 6) for y in (6, 4, 5)}\u001b[0m\n\u001b[1;37m                          ^\u001b[0m\n\u001b[1;31mSyntaxError\u001b[0m\u001b[1;31m:\u001b[0m invalid syntax\n"
     ]
    }
   ],
   "source": [
    "{(x, y): x**2, y**3 for x in (2, 4, 6) for y in (6, 4, 5)}"
   ]
  },
  {
   "cell_type": "code",
   "execution_count": 4,
   "metadata": {
    "collapsed": false
   },
   "outputs": [],
   "source": [
    "#Dictionary example : Need to debug the code\n",
    "my_purchase = {'Apple': 1, 'Banana': 6, 'Pear':4, 'Melon':1}   "
   ]
  },
  {
   "cell_type": "code",
   "execution_count": 134,
   "metadata": {
    "collapsed": false
   },
   "outputs": [
    {
     "data": {
      "text/plain": [
       "{2: 4, 4: 16, 6: 36}"
      ]
     },
     "execution_count": 134,
     "metadata": {},
     "output_type": "execute_result"
    }
   ],
   "source": [
    "{x: x**2 for x in (2, 4, 6)}"
   ]
  },
  {
   "cell_type": "code",
   "execution_count": 135,
   "metadata": {
    "collapsed": false
   },
   "outputs": [
    {
     "data": {
      "text/plain": [
       "{-6: 6, -4: 4, 2: 2, 8: 8}"
      ]
     },
     "execution_count": 135,
     "metadata": {},
     "output_type": "execute_result"
    }
   ],
   "source": [
    "{x: abs(x) for x in (2, -4, -6, 8)}"
   ]
  },
  {
   "cell_type": "code",
   "execution_count": 142,
   "metadata": {
    "collapsed": false
   },
   "outputs": [
    {
     "name": "stdout",
     "output_type": "stream",
     "text": [
      "0 ACME\n",
      "1 50\n",
      "2 92.5\n",
      "3 (2016, 06, 24)\n"
     ]
    }
   ],
   "source": [
    "answers = ['ACME', 50, 92.5, (2016, 06, 24)] \n",
    "#questions = [name, shares, price, (year, mon, day)]\n",
    "#for i, v in enumerate(['name', 'shares', 'price', 'date']):\n",
    "for i, v in enumerate(['ACME', '50', '92.5', '(2016, 06, 24)']):\n",
    "    print i, v"
   ]
  },
  {
   "cell_type": "code",
   "execution_count": 146,
   "metadata": {
    "collapsed": false
   },
   "outputs": [
    {
     "name": "stdout",
     "output_type": "stream",
     "text": [
      "What is your ACME?  It is ACME.\n",
      "What is your 94.5?  It is 50.\n",
      "What is your 50?  It is 92.5.\n",
      "What is your 24?  It is (2016, 6, 24).\n"
     ]
    }
   ],
   "source": [
    "#need to debug\n",
    "questions = [name, shares, price, date]\n",
    "answers = ['ACME', 50, 92.5, (2016, 06, 24)] \n",
    "for q, a in zip(questions, answers):\n",
    "     print 'What is your {0}?  It is {1}.'.format(q, a)"
   ]
  },
  {
   "cell_type": "code",
   "execution_count": 148,
   "metadata": {
    "collapsed": false
   },
   "outputs": [
    {
     "name": "stdout",
     "output_type": "stream",
     "text": [
      "24\n",
      "50\n",
      "94.5\n",
      "ACME\n"
     ]
    }
   ],
   "source": [
    "#need to debug\n",
    "questions = [name, shares, price, date]\n",
    "#answers = ['ACME', 50, 92.5, (2016, 06, 24)] \n",
    "for i in reversed(questions):\n",
    "    print i"
   ]
  },
  {
   "cell_type": "code",
   "execution_count": 151,
   "metadata": {
    "collapsed": false
   },
   "outputs": [
    {
     "name": "stdout",
     "output_type": "stream",
     "text": [
      "1426\n",
      "2143\n",
      "2314\n",
      "5682\n",
      "6584\n",
      "7568\n"
     ]
    }
   ],
   "source": [
    "Numbers = ['1426', '6584', '7568', '2314', '2143', '5682', '6584', '2314']\n",
    "for f in sorted(set(Numbers)):\n",
    "    print f"
   ]
  },
  {
   "cell_type": "code",
   "execution_count": 9,
   "metadata": {
    "collapsed": false
   },
   "outputs": [
    {
     "ename": "TypeError",
     "evalue": "dict expected at most 1 arguments, got 2",
     "output_type": "error",
     "traceback": [
      "\u001b[1;31m---------------------------------------------------------------------------\u001b[0m",
      "\u001b[1;31mTypeError\u001b[0m                                 Traceback (most recent call last)",
      "\u001b[1;32m<ipython-input-9-ed154f367b3d>\u001b[0m in \u001b[0;36m<module>\u001b[1;34m()\u001b[0m\n\u001b[0;32m      2\u001b[0m \u001b[0mquestions\u001b[0m \u001b[1;33m=\u001b[0m \u001b[1;33m[\u001b[0m\u001b[1;34m'name'\u001b[0m\u001b[1;33m,\u001b[0m \u001b[1;34m'shares'\u001b[0m\u001b[1;33m,\u001b[0m \u001b[1;34m'price'\u001b[0m\u001b[1;33m,\u001b[0m \u001b[1;34m'date'\u001b[0m\u001b[1;33m]\u001b[0m\u001b[1;33m\u001b[0m\u001b[0m\n\u001b[0;32m      3\u001b[0m \u001b[0manswers\u001b[0m \u001b[1;33m=\u001b[0m \u001b[1;33m[\u001b[0m\u001b[1;34m'ACME'\u001b[0m\u001b[1;33m,\u001b[0m \u001b[1;36m50\u001b[0m\u001b[1;33m,\u001b[0m \u001b[1;36m92.5\u001b[0m\u001b[1;33m,\u001b[0m \u001b[1;33m(\u001b[0m\u001b[1;36m2016\u001b[0m\u001b[1;33m,\u001b[0m \u001b[1;36m06\u001b[0m\u001b[1;33m,\u001b[0m \u001b[1;36m24\u001b[0m\u001b[1;33m)\u001b[0m\u001b[1;33m]\u001b[0m\u001b[1;33m\u001b[0m\u001b[0m\n\u001b[1;32m----> 4\u001b[1;33m \u001b[0ma\u001b[0m \u001b[1;33m=\u001b[0m \u001b[0mdict\u001b[0m\u001b[1;33m(\u001b[0m\u001b[1;33m[\u001b[0m\u001b[1;34m'name'\u001b[0m\u001b[1;33m,\u001b[0m \u001b[1;34m'shares'\u001b[0m\u001b[1;33m,\u001b[0m \u001b[1;34m'price'\u001b[0m\u001b[1;33m,\u001b[0m \u001b[1;34m'date'\u001b[0m\u001b[1;33m]\u001b[0m\u001b[1;33m,\u001b[0m \u001b[1;33m[\u001b[0m\u001b[1;34m'ACME'\u001b[0m\u001b[1;33m,\u001b[0m \u001b[1;36m50\u001b[0m\u001b[1;33m,\u001b[0m \u001b[1;36m92.5\u001b[0m\u001b[1;33m,\u001b[0m \u001b[1;33m(\u001b[0m\u001b[1;36m2016\u001b[0m\u001b[1;33m,\u001b[0m \u001b[1;36m06\u001b[0m\u001b[1;33m,\u001b[0m \u001b[1;36m24\u001b[0m\u001b[1;33m)\u001b[0m\u001b[1;33m]\u001b[0m\u001b[1;33m)\u001b[0m\u001b[1;33m\u001b[0m\u001b[0m\n\u001b[0m\u001b[0;32m      5\u001b[0m \u001b[0ma\u001b[0m\u001b[1;33m\u001b[0m\u001b[0m\n\u001b[0;32m      6\u001b[0m \u001b[1;32mfor\u001b[0m \u001b[0mk\u001b[0m\u001b[1;33m,\u001b[0m \u001b[0mv\u001b[0m \u001b[1;32min\u001b[0m \u001b[0ma\u001b[0m\u001b[1;33m.\u001b[0m\u001b[0miteritems\u001b[0m\u001b[1;33m(\u001b[0m\u001b[1;33m)\u001b[0m\u001b[1;33m:\u001b[0m\u001b[1;33m\u001b[0m\u001b[0m\n",
      "\u001b[1;31mTypeError\u001b[0m: dict expected at most 1 arguments, got 2"
     ]
    }
   ],
   "source": [
    "#need to debug\n",
    "questions = ['name', 'shares', 'price', 'date']\n",
    "answers = ['ACME', 50, 92.5, (2016, 06, 24)]\n",
    "a = dict(['name', 'shares', 'price', 'date'], ['ACME', 50, 92.5, (2016, 06, 24)])\n",
    "a\n",
    "for k, v in a.iteritems():\n",
    "    print k, v"
   ]
  },
  {
   "cell_type": "code",
   "execution_count": null,
   "metadata": {
    "collapsed": true
   },
   "outputs": [],
   "source": []
  }
 ],
 "metadata": {
  "kernelspec": {
   "display_name": "Python 2",
   "language": "python",
   "name": "python2"
  },
  "language_info": {
   "codemirror_mode": {
    "name": "ipython",
    "version": 2
   },
   "file_extension": ".py",
   "mimetype": "text/x-python",
   "name": "python",
   "nbconvert_exporter": "python",
   "pygments_lexer": "ipython2",
   "version": "2.7.6"
  }
 },
 "nbformat": 4,
 "nbformat_minor": 0
}
