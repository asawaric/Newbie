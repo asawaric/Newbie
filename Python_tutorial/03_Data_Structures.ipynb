{
 "cells": [
  {
   "cell_type": "markdown",
   "metadata": {},
   "source": [
    "# Data structures\n",
    "\n",
    "You should be familiar with the following topics before endeavoring on this exercise. A comprehensive tutorial on data structures can be found at https://docs.python.org/2/tutorial/datastructures.html\n",
    "\n",
    "* Lists as stacks (last-in, first-out)\n",
    "* Lists as queues (first-in, first-out)\n",
    "* Functional programming tools\n",
    "* List comprehension and nested list comprehension\n",
    "* The ```del``` statement\n",
    "* Tuples and sequences\n",
    "* Sets\n",
    "* Dictionaries\n"
   ]
  },
  {
   "cell_type": "markdown",
   "metadata": {},
   "source": [
    "---\n",
    "### Exercise 1: Appending to lists\n",
    "\n",
    "1. Write a program that sequentially prompts a user for strings that are then appended to a list. Once all entries to the list are entered, print the entries of the list in reverse order (e.g. last entry is printed first). Both lists and deques can accomplish this. A hint program that does something similar is shown below.\n",
    "```python\n",
    "ans_array = []\n",
    "while True:\n",
    "    in_str = raw_input(\"Enter a string to be appended to this list. Type ! to discontinue\\n\")\n",
    "    if in_str not in ['!']: \n",
    "        ans_array.append(in_str)\n",
    "    else:\n",
    "        break\n",
    "print \"*\"*80, \"\\n\"\n",
    "for a in ans_array:\n",
    "    print a\n",
    "```"
   ]
  },
  {
   "cell_type": "markdown",
   "metadata": {
    "collapsed": false
   },
   "source": [
    "---\n",
    "### Exercise 2: Filtering, Mapping, and Reducing \n",
    "1. Using the *filter* function, find all the **even** integers from 1 to 200 that are divisible by 13. Here's a hint program:\n",
    "```python\n",
    "def divisible_by_13(x): return ((x%13)==0)\n",
    "filter(divisible_by_13, range(1,200))\n",
    "```\n",
    "2. Modify your program in the last part, by adding the use of the *reduce* function, to return the product of these numbers. Hint: the answer is **1653506564735025**.\n",
    "3. Modify your program in the last part, now using the *map* function, to return the sum of the squares of all even numbers from 1 to 200 that are divisible by 13. Hint: the answer is **114920**."
   ]
  },
  {
   "cell_type": "markdown",
   "metadata": {},
   "source": [
    "### Exercise 3: List comprehensions, Nested List comprehensions\n",
    "\n",
    "1. Using list comprehension method, multiply the numbers of two given lists.\n",
    "   List A = [10, 20, 30] List B = [4, 7, 9]\n",
    "   \n",
    "   Hint program : To create a list of cube of numbers 1 to 10.\n",
    "```Python\n",
    "Cubes = [x**3 for x in range(11)]\n",
    "``` \n",
    "2. Using Nested list comprehension method, create a Pythogorean triples for numbers in the range 1 to 20.\n",
    "   \n",
    "   Hint program : To create a list of number pairs (x, y) from two given lists for the condition x >= y\n",
    "    List A = [1, 2, 3, 4] List B = [2, 4, 3, 1]\n",
    "```Python\n",
    "[(x, y) for x in [1, 2, 3, 4] for y in [2, 4, 3, 1] if x >= y]\n",
    "```"
   ]
  },
  {
   "cell_type": "markdown",
   "metadata": {
    "collapsed": true
   },
   "source": [
    "### Exercise 4: Tuples and Sequences\n",
    "\n",
    "    1. For given two tuples of mixed values, create two new tuples of same values.\n",
    "    tup1 = 'Physics', 'Biology', '1.4567', '2.1345'\n",
    "    tup2 = 'Chemistry', 'Mathematics', '5698', '3427'\n",
    "    Hint : Use tuple slicing\n",
    "    \n",
    "    2. Write a code for unpacking an items of a given sequence for given variables. Print the resulting \n",
    "       values of each variable.\n",
    "       my_seq = ['ACME', 50, 92.5, (2016, 06, 24)] \n",
    "       variables :name, shares, price, (year, mon, day)\n",
    "           "
   ]
  },
  {
   "cell_type": "markdown",
   "metadata": {
    "collapsed": true
   },
   "source": [
    "### Exercise 5: Sets and Dictionaries\n",
    "\n",
    "    1. For given two lists a and b, perform the following set() operations.\n",
    "    i) a | b  #Find the set of items in either a or b\n",
    "    ii) a ^ b #Find the set of items in a or b but not in both.\n",
    "            Given : a = [\"Physics\", \"Biology\", \"Chemistry\", \"Mathematics\"]\n",
    "                    b = [\"Geology\", \"Statistics\", \"Mathematics\", \"Biology\", \"Sociology\"]\n",
    "   \n",
    "    2. For lists a and b given above, using set comprehension method create a list of items which are in list a \n",
    "       but not in list b. \n",
    "    \n",
    "    3. Create a dictionary from the given sequence of (Fruit, Price) pairs. Print the keys of resulting \n",
    "       dictionary.\n",
    "       Given sequence: [('Apple', 0.8), ('Orange', 0.6), ('Pear', 0.7), ('Banana, 0.4')]\n",
    "       \n",
    "    4. From the above dictionary delete a pair of Orange and its price and add new pair ('Melon', 3.5).\n",
    "    \n",
    "    5. Using dictionary comprehensions create a dictionary for arbitrary key (e.g. x) and the expression \n",
    "       (abs(x)) from the list (-8,9,10,-15)."
   ]
  },
  {
   "cell_type": "markdown",
   "metadata": {
    "collapsed": true
   },
   "source": [
    "### Exercise 6: Looping techniques\n",
    "\n",
    "    Given :     answers = ['ACME', 50, 92.5, (2016, 06, 24)] \n",
    "                questions = [name, shares, price, (year, mon, day)]\n",
    "    1. Using enumerate() function, find the position index and its corresponding value for the tuple named\n",
    "       'answers'.\n",
    "       \n",
    "    2. Using zip() function, for the given tuple named 'answers' and variable sequence named 'questions' print \n",
    "       the questions and the corresponding answers. (e.g What is name? It is ACHME).\n",
    "       \n",
    "    3. For the variable sequence named 'questions', print the sequence variable in reverse order using\n",
    "       reversed() function.\n",
    "    \n",
    "    4. For a given sequence Numbers = ['1426', '6584', '7568', '2314', '2143', '5682', '6584', '2314'], \n",
    "       use the sorted() function to sort the sequence.\n",
    "       \n",
    "    5. Create dictionary using given tuple named 'answers' and variable sequence named 'questions'. Using                   iteritem() function, print the each key and its corresponding value."
   ]
  },
  {
   "cell_type": "code",
   "execution_count": null,
   "metadata": {
    "collapsed": true
   },
   "outputs": [],
   "source": []
  }
 ],
 "metadata": {
  "kernelspec": {
   "display_name": "Python 2",
   "language": "python",
   "name": "python2"
  },
  "language_info": {
   "codemirror_mode": {
    "name": "ipython",
    "version": 2
   },
   "file_extension": ".py",
   "mimetype": "text/x-python",
   "name": "python",
   "nbconvert_exporter": "python",
   "pygments_lexer": "ipython2",
   "version": "2.7.6"
  }
 },
 "nbformat": 4,
 "nbformat_minor": 0
}
