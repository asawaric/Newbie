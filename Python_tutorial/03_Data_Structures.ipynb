{
 "cells": [
  {
   "cell_type": "markdown",
   "metadata": {},
   "source": [
    "# Data structures\n",
    "\n",
    "You should be familiar with the following topics before endeavoring on this exercise. A comprehensive tutorial on data structures can be found at https://docs.python.org/2/tutorial/datastructures.html\n",
    "\n",
    "* Lists as stacks (last-in, first-out)\n",
    "* Lists as queues (first-in, first-out)\n",
    "* Functional programming tools\n",
    "* List comprehension and nested list comprehension\n",
    "* The ```del``` statement\n",
    "* Tuples and sequences\n",
    "* Sets\n",
    "* Dictionaries\n"
   ]
  },
  {
   "cell_type": "markdown",
   "metadata": {},
   "source": [
    "---\n",
    "### Exercise 1: Appending to lists.\n",
    "#### Often we will encounter arbitarily long lists of values in programming. It is common to keep track of these values by appending them to a growing list. Here's a simple example of this.\n",
    "\n",
    "1. Write a program that sequentially prompts a user for strings that are then appended to a list. Once all entries to the list are entered, print the entries of the list in reverse order (e.g. last entry is printed first). Both lists and deques can accomplish this. A hint program that does something similar is shown below.\n",
    "```python\n",
    "ans_array = []\n",
    "while True:\n",
    "    in_str = raw_input(\"Enter a string to be appended to this list. Type ! to discontinue\\n\")\n",
    "    if in_str not in ['!']: \n",
    "        ans_array.append(in_str)\n",
    "    else:\n",
    "        break\n",
    "print \"*\"*80, \"\\n\"\n",
    "for a in ans_array:\n",
    "    print a\n",
    "```"
   ]
  },
  {
   "cell_type": "markdown",
   "metadata": {
    "collapsed": false
   },
   "source": [
    "---\n",
    "### Exercise 2: Filtering, Mapping, and Reducing.\n",
    "#### These three operations are commonly used on lists to apply or select elements using user-specified conditions. \n",
    "\n",
    "1. Using the `filter` function, find all the **even** integers from 1 to 200 that are also divisible by 13. Here's a hint program:\n",
    "```python\n",
    "divisible_by_13 = lambda x: ((x%13)==0)\n",
    "filter(divisible_by_13, range(1,201))\n",
    "```\n",
    "2. Modify the last program to return the product of all the even numbers between 1 to 200. \n",
    "    * First create a lambda function `prod` that multiplies two arguments.\n",
    "    * Use this `prod` function with `reduce` function on the output of item 1.\n",
    "    * The answer is **40480323287040**.\n",
    "3. Modify your program in the last part to return the sum of the squares of all even numbers from 1 to 200 that are divisible by 13. \n",
    "    * Write an `add` lambda function that adds two arguments.\n",
    "    * Write a `squared` lambda function that multiplies an argument by itself.\n",
    "    * Using the `map` function with `squared`, create a list of the squared of all even numbers from 1 to 200 that are also divisible by 13.\n",
    "    * The answer is **94640**."
   ]
  },
  {
   "cell_type": "markdown",
   "metadata": {},
   "source": [
    "---- \n",
    "### Exercise 3: Regular, nested, and conditional list comprehensions.\n",
    "#### List comprehensions are compact and useful methods for looping over, selecting subsets of, and reshaping lists and tuples.\n",
    "\n",
    "1. Using nested list comprehension plus a conditional clause, create a two-level list named `unflat` comprising sublists [x,y] such that y>x for 0<=x<=5 and 0<=y<=5.\n",
    "   * Hint: \n",
    "   ```python \n",
    "   unflat = [(result) for x in (range_of_x) for y in (range_of_y) if (condition)]\n",
    "   ```\n",
    "2. Using a single list comprehension, re-write the program in exercise 2.3 above -- sum of squares of even numbers divisible by 13 for numbers from 1 to 200. \n",
    "    * Hint: you can use the function `sum(list)` to add all the elements of a list. Otherwise, you can also use `reduce`. "
   ]
  },
  {
   "cell_type": "markdown",
   "metadata": {
    "collapsed": true
   },
   "source": [
    "### Exercise 4: Making new tuples from old.\n",
    "#### Tuples are often used in Python. Because they are immutable once they are defined, we often compose new tuples out of existing immutable ones.\n",
    "\n",
    "1. Consider the tuple `long_tup` below. Add the terms \"Computation\" and \"9999\" to this tuple.\n",
    "```python\n",
    "long_tup = 'Physics', 'Biology', '14567', '21345','Chemistry', 'Mathematics', '5698', '3427'\n",
    "```\n",
    "2. Why does `long_tup[0] = \"Test\"` fail?\n",
    "2. Create two tuples from the `long_tup` tuple above: `alph` and `num`. The `alph` tuple only has words, while `num` only contains numbers.\n",
    "    * Hint1: you can use `txt.isalpha()` to test if a string contains only letters of the alphabet. \n",
    "    * Hint2: check out `txt.isdigit()`.\n",
    "3. Use `zip` within a list comprehension on the two tuples you created in part 1 to create the following tuple of tuples. The pairing of numbers to words is unimportant here.\n",
    "```python\n",
    "[('14567', 'Physics'),\n",
    " ('21345', 'Biology'),\n",
    " ('3427', 'Mathematics'),\n",
    " ('5698', 'Chemistry'),\n",
    " ('9999', 'Computation')]\n",
    "```"
   ]
  },
  {
   "cell_type": "markdown",
   "metadata": {},
   "source": [
    "### Exercise 5. Sets, set comprehension, and the Asimov's rules for robots.\n",
    "#### Sets are useful ways of computing membership of objects in lists. Here is an example that can be generalized to comparing many different sets (e.g. words in a paragraph, numbers in a list, files in a directory).\n",
    "\n",
    "1. Consider the list of strings `asimov_robot_rules` below. Using set comprehension, count the number of unique words in this list.\n",
    "```python \n",
    "asimov_robot_rules = \"A robot may not injure a human being or, through inaction, allow a human being to come to harm. A robot must obey orders given it by human beings except where such orders would conflict with the First Law. A robot must protect its own existence as long as such protection does not conflict with the First or Second Law.\".split(' ')\n",
    "```\n",
    "    * Hint1: to avoid double counting identical letters because of upper or lower case, use `txt.lower()`\n",
    "    * Hint2: use `txt.rstrip('.')` to remove trailing periods in words. You can concatenate these two hints as `txt.lower().rstrip('.')`.\n",
    "    * Hint3: don't forget to modify hint 2 to remove the trailing commas too!\n",
    "    * There should be 39 unique words in the list `asimov_robot_rules`.\n",
    "2. Now consider the same for the string list `asimov_tool_rules` below. \n",
    "```python\n",
    "asimov_tool_rules = \"A tool must not be unsafe to use. Hammers have handles and screwdrivers have hilts to help increase grip. It is of course possible for a person to injure himself with one of these tools, but that injury would only be due to his incompetence, not the design of the tool. A tool must perform its function efficiently unless this would harm the user. This is the entire reason ground-fault circuit interrupters exist. Any running tool will have its power cut if a circuit senses that some current is not returning to the neutral wire, and hence might be flowing through the user. The safety of the user is paramount. A tool must remain intact during its use unless its destruction is required for its use or for safety. For example, Dremel disks are designed to be as tough as possible without breaking unless the job requires it to be spent. Furthermore, they are designed to break at a point before the shrapnel velocity could seriously injure someone\".split(' ')\n",
    "```\n",
    "    * How many words does this list have in common with `asimov_robot_rules` (__Answer: 14__)?\n",
    "    * How many words are unique to one list and not the other (__Answer: 25 and 27__)?\n"
   ]
  },
  {
   "cell_type": "markdown",
   "metadata": {},
   "source": [
    "## Exercise 6. Dictionaries, looping techniques, and sorting.\n",
    "### Dictionaries are useful for keeping track of \"heterogeneous\" data sets. \n",
    "\n",
    "1. Can you explain what the function `add_to_dict` below does?\n",
    "```python\n",
    "def add_to_dict(in_dict, word, loc):\n",
    "    if word in in_dict.keys():\n",
    "        in_dict[word].append(loc)\n",
    "    else:\n",
    "        in_dict[word] = [loc]\n",
    "```\n",
    "2. Consider the list of strings `asimov_robot_rules` from above. Using `enumerate` create a list of sublists that specify the position of each word in `asimov_robot_rules`. Name this list of sublist `robot_pos`.\n",
    "    * This should look like __[[word1_position, word1], [word2_position, word2], ...]__. As a check, the word 'as' occurs at the 48th position in this list.\n",
    "3. Using your results from the first two parts of this exercise, write a `for` loop over the elements of `robot_pos` that creates a dictionary that keeps track of the position where each word occurs. \n",
    "    * If you get this correct, the word 'a' occurs at positions [0,5,12,19,39]. \n",
    "4. Using `iteritems()` on the dictionary from the part 3 above, write out a dictionary `unsorted_d` that counts number of occurence of each word. \n",
    "```python\n",
    "unsorted_d = {'harm': 1, 'own': 1, 'being': 2, 'it': 1, 'robot': 3, 'second': 1, 'through': 1, 'human': 3, 'existence': 1, 'its': 1, 'as': 2, 'given': 1, 'would': 1, 'injure': 1, 'come': 1, 'except': 1, 'long': 1, 'orders': 2, 'to': 2, 'does': 1, 'conflict': 2, 'inaction': 1, 'obey': 1, 'may': 1, 'protection': 1, 'not': 2, 'such': 2, 'law': 2, 'with': 2, 'by': 1, 'must': 2, 'a': 5, 'protect': 1, 'beings': 1, 'allow': 1, 'the': 2, 'where': 1, 'or': 2, 'first': 2}\n",
    "```\n",
    "5. The `sorted` function allows you to specify how to sort elements of a list/dictionary. The template program below uses Python's built-in `operator` module to sort the dictionary in part 4 by their occurence.\n",
    "```python\n",
    "import operator\n",
    "print sorted(unsorted_d.items(), key=operator.itemgetter(1))\n",
    "```\n",
    "    * Can you modify the program in the last line to print the words by decreasing order of occurence? Hint: you can use reverse slicing (lst[-1::-1]) or the function `reversed`.\n",
    "    * What are the three words that occur most frequently? And how often do they occur (__Answer ('a', 5), ('human', 3), ('robot', 3)__)?"
   ]
  }
 ],
 "metadata": {
  "kernelspec": {
   "display_name": "Python 2",
   "language": "python",
   "name": "python2"
  },
  "language_info": {
   "codemirror_mode": {
    "name": "ipython",
    "version": 2
   },
   "file_extension": ".py",
   "mimetype": "text/x-python",
   "name": "python",
   "nbconvert_exporter": "python",
   "pygments_lexer": "ipython2",
   "version": "2.7.11"
  }
 },
 "nbformat": 4,
 "nbformat_minor": 0
}
