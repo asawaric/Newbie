{
 "cells": [
  {
   "cell_type": "markdown",
   "metadata": {},
   "source": [
    "# 1. Introduction to Python\n"
   ]
  },
  {
   "cell_type": "markdown",
   "metadata": {},
   "source": [
    "Python is a high-level, open-source, general-purpose programming language applicable to many different classes of problems. It has a large standard library that covers areas such as string processing, Internet protocols, software engineering and operating system interfaces.\n",
    "\n",
    "At this point, you should be familiar with:\n",
    "- the use of jupyter/ipython notebook.\n",
    "- the Python types int, float, strings, and lists.\n",
    "##### Relevant reading: Python tutorial 3."
   ]
  },
  {
   "cell_type": "markdown",
   "metadata": {},
   "source": [
    "---- \n",
    "### Exercise 1. Using Python as a calculator\n",
    "#### Many operations in Python are built upon arithmetic calculations. Here we exercise some arithmetic operators that you will often encounter.  \n",
    "##### Relevant Reading: Python tutorial 3.1.\n",
    "1. Write and execute Python code that computes the following:\n",
    "    * Compute two raised to the power of 20, i.e. 2^20\n",
    "    * Remainder of 1002313 divided by 34\n",
    "    * Convert 100 degrees Celsius to degrees Farenheit.\n",
    "2. What is the difference between the output from three different division below? Do you understand the output?\n",
    "```python\n",
    "91/9.0\n",
    "91/9\n",
    "91//9.\n",
    "```\n",
    "3. If *a is 5.8012923121232* and *b is 6.7283812312*, what is the result of\n",
    "```python\n",
    "(a+a*b)/b*67/a**2\n",
    "```\n",
    "Hint: the answer is xx.xxxx33671496632, where *x* are integers."
   ]
  },
  {
   "cell_type": "markdown",
   "metadata": {},
   "source": [
    "----\n",
    "### Exercise 2. String types and ipython auto-complete.\n",
    "#### The `autocomplete` feature in ipython/jupyter notebook is helpful. Amongst other uses, this feature helps you explore functions, values, keys of Python types (without reading documentation). For the experimenatlists, this the `autocomplete` feature is an excellent way to dig into Python and experiment around.\n",
    "\n",
    "##### Relevant reading: Python tutorial 3.1.\n",
    "\n",
    "For this exercise define the following variable in Python:\n",
    "```python \n",
    "txt = \"a short text string\"\n",
    "```\n",
    "1. Which of the following text operations are allowed in Python.\n",
    "    * txt + txt\n",
    "    * txt*2\n",
    "    * txt * txt\n",
    "    * txt/txt\n",
    "    * txt - txt\n",
    "2. A Python string is actually a class (you'll learn about this later) that includes its own variables and functions. You can invoke these functions of the string **_txt_** by typing **_txt.function(args)_**. For example, the above string can be split into a list of words with **_txt_**'s member function **_split_**:\n",
    "```python\n",
    "txt.split(' ')\n",
    "```\n",
    "    * Try this. You can see these member functions of a string by typing **_txt_.** (don't forget the '.') into the ipython _Code_ box then hitting the _Tab_ key. A list of member functions of **_txt_** should appear. \n",
    "    * Your turn. Use a member function of string to convert all the letters of **_txt_** into uppercase. You should be executing a function like txt.XXXXX() where the Xs is the name **_txt_**'s member function."
   ]
  },
  {
   "cell_type": "markdown",
   "metadata": {},
   "source": [
    "----\n",
    "### Exercise 3. Python integers, floats and ipython auto-complete.\n",
    "##### Relevant reading: Python tutorial 3.1.\n",
    "1. Turns out Python integers and floats are also classes. Using the hints from Exercise 2.2 above, can you write out 3.1415 in hexadecimal notation? Answer should be *'0x1.921cac083126fp+1'*\n",
    "2. What is the bit-length of the integer 239912312932123123? (Answer:58)"
   ]
  },
  {
   "cell_type": "markdown",
   "metadata": {},
   "source": [
    "----\n",
    "### Exercise 4. Lists and slicing/indexing.\n",
    "#### Lists are an essential type in Python. Here are a few exercises in using Python lists. \n",
    "##### Relevant reading: Python tutorial 3.1.\n",
    "\n",
    "For the rest of this exercise, define the list (you will learn about the **_range_** function in the next tutorial)\n",
    "```python\n",
    "lst = range(30)\n",
    "```\n",
    "1. Indexing. What is 28th element of **_lst_** raised to the *n*th power, where n is 13th element of **_lst_**? (Answer: 6502111422497947648).\n",
    "2. Print only the even numbers of **_lst_**. What is the length of this new even-number-only list? Hint: for flexible list slicing try, lst[<startposition>:<endposition>:<stepsize>].\n",
    "3. Print every 6th number of **_lst_** starting from 0.\n",
    "4. Print the odd numbers in **_lst_** list in descending order (29,27,25,..1)."
   ]
  }
 ],
 "metadata": {
  "kernelspec": {
   "display_name": "Python 2",
   "language": "python",
   "name": "python2"
  },
  "language_info": {
   "codemirror_mode": {
    "name": "ipython",
    "version": 2
   },
   "file_extension": ".py",
   "mimetype": "text/x-python",
   "name": "python",
   "nbconvert_exporter": "python",
   "pygments_lexer": "ipython2",
   "version": "2.7.11"
  }
 },
 "nbformat": 4,
 "nbformat_minor": 0
}
