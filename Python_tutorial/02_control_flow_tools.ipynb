{
 "cells": [
  {
   "cell_type": "markdown",
   "metadata": {},
   "source": [
    "# 2. Control Flow Tools"
   ]
  },
  {
   "cell_type": "markdown",
   "metadata": {},
   "source": [
    "A program's control flow is the order in which program's code executes.\n",
    "Python provides various tools for flow control such as while, if, for, range, break, continue, pass, function etc.\n",
    "\n",
    "The content of this file is sourced from following references:\n",
    "\n",
    "1] https://www.safaribooksonline.com/library/view/python-in-a/0596001886/ch04s09.html\n",
    "\n",
    "2] https://docs.python.org/2.7/tutorial/controlflow.html\n",
    "\n",
    "3] http://python.swaroopch.com/control_flow.html\n",
    "\n",
    "4] https://automatetheboringstuff.com/chapter2/"
   ]
  },
  {
   "cell_type": "markdown",
   "metadata": {},
   "source": [
    "1. while loop : 'while' loop executes block of statements as long as the condition remains true. The condition may also be a string, list value or any sequence. If the condition is false then 'while' loop ends.\n",
    "\n",
    "Syntax for while loop : \n",
    "\n",
    "while (condition):\n",
    "\n",
    "    (Statements)\n",
    "    "
   ]
  },
  {
   "cell_type": "markdown",
   "metadata": {},
   "source": [
    "EXERCISE 2.1 Print the availability of microscope imaging slots."
   ]
  },
  {
   "cell_type": "code",
   "execution_count": null,
   "metadata": {
    "collapsed": false
   },
   "outputs": [],
   "source": [
    "imaging_slots = 10\n",
    "while imaging_slots > 0:\n",
    "    print \"Imaging slot is available.\"\n",
    "    imaging_slots = imaging_slots - 1\n",
    "    \n",
    "print \"Sorry, all imaging slots are booked.\""
   ]
  },
  {
   "cell_type": "code",
   "execution_count": null,
   "metadata": {
    "collapsed": true
   },
   "outputs": [],
   "source": [
    "EXERCISE 2.1.1 "
   ]
  },
  {
   "cell_type": "markdown",
   "metadata": {},
   "source": [
    "2. if statement : The 'if' statement is used to check a condition. If the condition is true, the following statement or a block of statements is executed. If the condition is not true, the if statement does nothing. \n",
    "\n",
    "    The syntax for if statement is\n",
    "\n",
    "    if (condition):\n",
    "\n",
    "     (Statements)\n",
    " \n",
    "    \n",
    "    if statement can also optionally be followed by else clause and/or elseif clause.\n",
    "  \n",
    "(i) An 'if-else' statement tests a condition, and chooses one of two statements to execute. If the condition is true, the statement following the condition is executed. If the condition is not true, the statement following the else is executed. Both statements are typically blocks. \n",
    "\n",
    "    The syntax is\n",
    "    \n",
    "    if (condition):\n",
    "       \n",
    "       statement(1)\n",
    "    \n",
    "    else \n",
    "       \n",
    "       statement(2)\n",
    "     \n",
    "(ii) if-else-elif statement : There are cases where you want one of many possible statements to execute. The elif statement is an “else if” statement that always follows an if or another elif statement. It provides another condition that is checked only if all of the previous conditions were False. \n",
    "   \n",
    "     The syntax is\n",
    "     \n",
    "     if (condition):\n",
    "    \n",
    "        statement(1)\n",
    "    \n",
    "    elif (condition):\n",
    "        \n",
    "        statement(2)\n",
    "    \n",
    "    elif expression:\n",
    "    \n",
    "        statement(3)\n",
    "    \n",
    "    else:\n",
    "        \n",
    "        statement(4)\n",
    "    \n",
    "\n"
   ]
  },
  {
   "cell_type": "markdown",
   "metadata": {},
   "source": [
    "EXERCISE 2.2 Print the availabilty and unavailability of imaging slots. Try booking available imaging slots."
   ]
  },
  {
   "cell_type": "code",
   "execution_count": null,
   "metadata": {
    "collapsed": false
   },
   "outputs": [],
   "source": [
    "imaging_slots = 4\n",
    "while imaging_slots > 0:\n",
    "    print \"Imaging slot is available\"\n",
    "    Booking = raw_input('want to book a slot? Yes/No:')\n",
    "    if (raw_input(Booking == \"Yes\")):\n",
    "        imaging_slots = imaging_slots - 1\n",
    "        print \"You booked one imaging_slot\"\n",
    "        if imaging_slots == 0:\n",
    "            print \"No imaging slot is available\"\n",
    "    elif (raw_input(Booking == \"No\")):\n",
    "        print \"Thank you for using Imaging slots booking system\" "
   ]
  },
  {
   "cell_type": "code",
   "execution_count": null,
   "metadata": {
    "collapsed": true
   },
   "outputs": [],
   "source": [
    "EXERCISE 2.2.1"
   ]
  },
  {
   "cell_type": "markdown",
   "metadata": {},
   "source": [
    "3. For loop : 'for' statement iterates over a sequence of objects (a list or a string) i.e. go through each item in  a sequence. \n",
    "\n",
    "    The syntax is\n",
    "    \n",
    "    for (object) in (sequence):\n",
    "        \n",
    "        statement(1)\n",
    "    \n",
    "Keyword 'in' is part of the syntax of the 'for' statement. A 'for' statement can also include range function, an else clause and break and continue statements.\n",
    "\n",
    "(i) range() function: Python's built-in function range() generates an integer sequence. range(n) returns a list whose items are consecutive integers from 0 (included) up to n (excluded). It is also possible to specify an increment (called as 'step') in range().\n",
    "\n",
    "    The syntax is\n",
    "    \n",
    "    for i in range(n): \n",
    "        \n",
    "        statement(1)\n",
    "    \n",
    "(ii) break statement : The 'break' statement is used only inside a loop body. It is used to break the execution of looping statement even if the loop condition has not become False or the sequence of items has not been completely iterated over. 'break' statement is usually inside some clause of an 'if' statement in the loop body so that it executes conditionally.\n",
    "\n",
    "    The syntax is\n",
    "    \n",
    "    for (object) in (sequence):\n",
    "        \n",
    "        statement(1)\n",
    "        \n",
    "        if(condition) \n",
    "            \n",
    "            break\n",
    "     \n",
    "    statement(2)   \n",
    "\n",
    "(iii) continue statement: 'continue' statement is also used only inside a loop body. It is used to skip the rest of the statements in the current loop block and to continue to the next iteration of the loop. In practical use, a continue statement is usually inside some clause of an if statement in the loop body so that it executes conditionally.\n",
    "\n",
    "    The syntax is\n",
    "\n",
    "    for (object) in (sequence):\n",
    "            statement(1)\n",
    "            if(condition) \n",
    "            continue\n",
    "    \n",
    "    statement(2) \n",
    "   "
   ]
  },
  {
   "cell_type": "markdown",
   "metadata": {},
   "source": [
    "EXERCISE 2.3 For given 10 numbers, state wheather a number is an even or an odd number."
   ]
  },
  {
   "cell_type": "code",
   "execution_count": null,
   "metadata": {
    "collapsed": true
   },
   "outputs": [],
   "source": [
    "Numbers = [1, 2, 3, 4, 5, 6, 7, 8, 9, 10]\n",
    "for i in Numbers:\n",
    "    if i%2 == 0:\n",
    "        print i, \"is an even number\"\n",
    "    else:\n",
    "        print i, \"is an odd number\""
   ]
  },
  {
   "cell_type": "markdown",
   "metadata": {},
   "source": [
    "EXERCISE 2.3.1 For given 10 numbers state wheather a number is a prime number or not."
   ]
  },
  {
   "cell_type": "markdown",
   "metadata": {},
   "source": [
    "EXERCISE 2.4 Using range() function, for given 10 numbers, state wheather a number is an odd number."
   ]
  },
  {
   "cell_type": "code",
   "execution_count": null,
   "metadata": {
    "collapsed": false
   },
   "outputs": [],
   "source": [
    "for i in range(11, 20):\n",
    "    if i%2 != 0:\n",
    "        print i, \"is an odd number\""
   ]
  },
  {
   "cell_type": "markdown",
   "metadata": {},
   "source": [
    "EXERCISE 2.4.1 Using range() function, for given 10 numbers, state wheather a number is an even number."
   ]
  },
  {
   "cell_type": "markdown",
   "metadata": {},
   "source": [
    "EXERCISE 2.5 For a given set of numbers state wheather a number is integer or float."
   ]
  },
  {
   "cell_type": "code",
   "execution_count": null,
   "metadata": {
    "collapsed": true
   },
   "outputs": [],
   "source": [
    "Numbers = [4, 10, 24, 1.5, 38, 16]\n",
    "for i in Numbers:\n",
    "    if i/2 > 1:\n",
    "        print \"It's an integer\"\n",
    "    else:\n",
    "        break\n",
    "print \"It's a float\"        "
   ]
  },
  {
   "cell_type": "markdown",
   "metadata": {},
   "source": [
    "EXERCISE 2.5.1 "
   ]
  },
  {
   "cell_type": "markdown",
   "metadata": {},
   "source": [
    "EXERCISE 2.6 Write a code asking username and password for access to lab."
   ]
  },
  {
   "cell_type": "code",
   "execution_count": null,
   "metadata": {
    "collapsed": false
   },
   "outputs": [],
   "source": [
    "while True:\n",
    "    print ('Enter your name:')\n",
    "    name = input()\n",
    "    if name != 'CBIS':     \n",
    "        continue              \n",
    "    print('Welcome. Enter the password:') \n",
    "    password = input()      \n",
    "    if password == 'NUS':\n",
    "        break               \n",
    "print('Lab Access granted.')  "
   ]
  },
  {
   "cell_type": "code",
   "execution_count": null,
   "metadata": {
    "collapsed": true
   },
   "outputs": [],
   "source": [
    "EXERCISE 2.6.1"
   ]
  },
  {
   "cell_type": "markdown",
   "metadata": {},
   "source": [
    "4. Pass statement : In python, body of a compound statement cannot be empty-it must contain at least one statement.\n",
    "In such cases, when a statement is required syntactically but the program requires no action 'pass' statement is used. 'pass' statement is also used as a place-holder for a function or conditional body. \n",
    "\n",
    "    The syntax is\n",
    "    \n",
    "    if (condition 1):\n",
    "        \n",
    "        process1\n",
    "    \n",
    "    elif (condition 2):\n",
    "        \n",
    "        pass                        # nothing to be done in this case\n",
    "    \n",
    "    elif (condition3):\n",
    "        \n",
    "        process3\n",
    "\n"
   ]
  },
  {
   "cell_type": "markdown",
   "metadata": {},
   "source": [
    "EXERCISE 2.7 State if a number is integer or float using 'pass' statement."
   ]
  },
  {
   "cell_type": "code",
   "execution_count": null,
   "metadata": {
    "collapsed": true
   },
   "outputs": [],
   "source": [
    "Numbers = [4, 10, 24, 1.5, 38, 16]\n",
    "for i in Numbers:\n",
    "    if i/2 > 1:\n",
    "        print \"It's an integer\"\n",
    "    else:\n",
    "        pass\n",
    "        print \"It's a float\"   "
   ]
  },
  {
   "cell_type": "markdown",
   "metadata": {},
   "source": [
    "EXERCISE 2.7.1 Modify above code the list of 5 float numbers and 1 integer number."
   ]
  },
  {
   "cell_type": "markdown",
   "metadata": {},
   "source": [
    "EXERCISE 2.4"
   ]
  },
  {
   "cell_type": "raw",
   "metadata": {},
   "source": [
    "5. Defining Functions: In python functions are used functions to avoid repeating code and to improve flow of programs. Keyword 'def' introduces a function definition which must be followed by the function name and the following lines indented."
   ]
  },
  {
   "cell_type": "code",
   "execution_count": null,
   "metadata": {
    "collapsed": true
   },
   "outputs": [],
   "source": []
  }
 ],
 "metadata": {
  "kernelspec": {
   "display_name": "Python 2",
   "language": "python",
   "name": "python2"
  },
  "language_info": {
   "codemirror_mode": {
    "name": "ipython",
    "version": 2
   },
   "file_extension": ".py",
   "mimetype": "text/x-python",
   "name": "python",
   "nbconvert_exporter": "python",
   "pygments_lexer": "ipython2",
   "version": "2.7.6"
  }
 },
 "nbformat": 4,
 "nbformat_minor": 0
}
