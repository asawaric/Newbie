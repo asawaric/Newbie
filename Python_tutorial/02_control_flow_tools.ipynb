{
 "cells": [
  {
   "cell_type": "markdown",
   "metadata": {},
   "source": [
    "# 2. Control Flow Tools"
   ]
  },
  {
   "cell_type": "markdown",
   "metadata": {},
   "source": [
    "A program's control flow is the order in which program's code executes.\n",
    "Python provides various tools for flow control such as while, if, for, range, break, continue, pass, function etc.\n",
    "\n",
    "The content of this file is sourced from following references:\n",
    "\n",
    "1] https://www.safaribooksonline.com/library/view/python-in-a/0596001886/ch04s09.html\n",
    "\n",
    "2] https://docs.python.org/2.7/tutorial/controlflow.html\n",
    "\n",
    "3] http://python.swaroopch.com/control_flow.html\n",
    "\n",
    "4] https://automatetheboringstuff.com/chapter2/"
   ]
  },
  {
   "cell_type": "markdown",
   "metadata": {},
   "source": [
    "1. while loop : 'while' loop executes block of statements as long as the condition remains true. The condition may also be a string, list value or any sequence. If the condition is false then 'while' loop ends.\n",
    "\n",
    "The syntax for while loop : \n",
    "```\n",
    "while (condition):\n",
    "    (Statements)\n",
    "```"
   ]
  },
  {
   "cell_type": "markdown",
   "metadata": {},
   "source": [
    "##### EXERCISE 2.1 Print the sum of even numbers from 1 to 20 using while loop. Here is a hint program :Print the sum of numbers from 1 to 100.\n",
    "\n",
    "```python\n",
    "n = 100\n",
    "sum = 0\n",
    "counter = 1\n",
    "while counter <= n:\n",
    "    sum = sum + counter\n",
    "    counter += 1\n",
    "print(\"Sum of numbers till %d: %d\" % (n,sum))\n",
    "```"
   ]
  },
  {
   "cell_type": "markdown",
   "metadata": {},
   "source": [
    "2.if statement : The 'if' statement is used to check a condition. If the condition is true, the following statement or a block of statements is executed. If the condition is not true, the if statement does nothing. \n",
    "\n",
    "The syntax for if statement is\n",
    "\n",
    "```\n",
    "if (condition):\n",
    "    (Statements)\n",
    "```\n",
    "    \n",
    "if statement can also optionally be followed by else clause and/or elseif clause.\n",
    "  \n",
    "(i) An 'if-else' statement tests a condition, and chooses one of two statements to execute. If the condition is true, the statement following the condition is executed. If the condition is not true, the statement following the else is executed. Both statements are typically blocks. \n",
    "\n",
    "The syntax is\n",
    "    \n",
    "```\n",
    "if (condition):\n",
    "    statement(1)\n",
    "else: \n",
    "    statement(2)\n",
    "```    \n",
    "     \n",
    "(ii) if-else-elif statement : There are cases where you want one of many possible statements to execute. The elif statement is an “else if” statement that always follows an if or another elif statement. It provides another condition that is checked only if all of the previous conditions were False. \n",
    "   \n",
    "The syntax is\n",
    "     \n",
    "```\n",
    "if (condition):\n",
    "    statement(1)\n",
    "elif (condition):\n",
    "    statement(2)\n",
    "elif expression:\n",
    "    statement(3)\n",
    "else:\n",
    "    statement(4)\n",
    "```"
   ]
  },
  {
   "cell_type": "markdown",
   "metadata": {},
   "source": [
    "##### EXERCISE 2.2 Write a code to decide whether a input number is smaller or greater than a given number. Hint program:\n",
    "\n",
    "```python\n",
    "x = int(raw_input(\"Please enter an integer: \"))\n",
    "if x > 0:\n",
    "    print \"{x} is a positive number\".format(x=x)\n",
    "else:\n",
    "    print \"{x} is a negative number\".format(x=x),\n",
    "```"
   ]
  },
  {
   "cell_type": "markdown",
   "metadata": {},
   "source": [
    "3.For loop : 'for' statement iterates over a sequence of objects (a list or a string) i.e. go through each item in  a sequence. \n",
    "\n",
    "The syntax is\n",
    "```    \n",
    "for (object) in (sequence):\n",
    "    statement(1)\n",
    "```\n",
    "    \n",
    "Keyword 'in' is part of the syntax of the 'for' statement. A 'for' statement can also include range function, an else clause and break and continue statements.\n",
    "\n",
    "(i) range() function: Python's built-in function range() generates an integer sequence. range(n) returns a list whose items are consecutive integers from 0 (included) up to n (excluded). It is also possible to specify an increment (called as 'step') in range().\n",
    "\n",
    "The syntax is\n",
    "```    \n",
    "for i in range(n): \n",
    "    statement(1)\n",
    "```\n",
    "    \n",
    "(ii) break statement : The 'break' statement is used only inside a loop body. It is used to break the execution of looping statement even if the loop condition has not become False or the sequence of items has not been completely iterated over. 'break' statement is usually inside some clause of an 'if' statement in the loop body so that it executes conditionally.\n",
    "\n",
    "The syntax is\n",
    "```    \n",
    "for (object) in (sequence):\n",
    "    statement(1)\n",
    "    if(condition): \n",
    "        break\n",
    "    statement(2)   \n",
    "```\n",
    "(iii) continue statement: 'continue' statement is also used only inside a loop body. It is used to skip the rest of the statements in the current loop block and to continue to the next iteration of the loop. In practical use, a continue statement is usually inside some clause of an if statement in the loop body so that it executes conditionally.\n",
    "\n",
    "The syntax is\n",
    "```\n",
    "for (object) in (sequence):\n",
    "    statement(1)\n",
    "    if(condition) \n",
    "        continue\n",
    "    statement(2) \n",
    "```\n",
    "(iv) Pass statement : In python, body of a compound statement cannot be empty-it must contain at least one statement. In such cases, when a statement is required syntactically but the program requires no action 'pass' statement is used. 'pass' statement is also used as a place-holder for a function or conditional body. \n",
    "\n",
    "The syntax is\n",
    "```    \n",
    "if (condition 1):\n",
    "    process1\n",
    "elif (condition 2):\n",
    "    pass                        # nothing to be done in this case\n",
    "elif (condition3):\n",
    "    process3\n",
    "```   "
   ]
  },
  {
   "cell_type": "markdown",
   "metadata": {},
   "source": [
    "##### EXERCISE 2.3 Using range() function, for given 10 numbers, state whether a number is an even or an odd number. Here is a hint program.\n",
    "```python\n",
    "Numbers = [1, 2, 3, 4, 5, 6, 7, 8, 9, 10]\n",
    "for i in Numbers:\n",
    "    if i%2 != 0:\n",
    "        print i, \"is an odd number\"\n",
    "```\n",
    "\n",
    "##### EXERCISE 2.3.1 Using break statement, for a given set of numbers state whether a number is integer or float.                \n",
    "\n",
    "##### EXERCISE 2.3.2 Using continue and pass statements, for a given set of numbers state whether a number is integer or float.\n",
    "                  Given : set of Numbers = [4, 10, 24, 1.5, 38, 16]"
   ]
  },
  {
   "cell_type": "markdown",
   "metadata": {},
   "source": [
    "4.Defining Functions: In python functions are used functions to avoid repeating code and to improve flow of programs. Keyword 'def' introduces a function definition which must be followed by the function name and the following lines indented.\n",
    "\n",
    "The syntax is\n",
    "```python\n",
    "def function_name( list of parameters ):\n",
    "    \"\"\"docstring\"\"\"\n",
    "    statement(s)\n",
    "```\n",
    "It is also possible to define functions with a variable number of arguments. These are following\n",
    "* Default argument values\n",
    "* Keyword arguments\n",
    "* Arbitrary argument list\n",
    "* Unpacking argument lists\n",
    "* Lambda expressions\n",
    "* Document strings"
   ]
  },
  {
   "cell_type": "markdown",
   "metadata": {},
   "source": [
    "##### EXERCISE 2.4 Write a code to convert a given temperature in degree Celcius to temperature in degree fahrenheit.\n",
    "##### Given: set of temperatures in degree celcius = [22.7, 25, 37, 0, 4]\n",
    "Hint program: To solve the given quadratic equation f(x) = 3x^2 - 2x + 5 for an integer x. \n",
    "```Python\n",
    " def f(x):\n",
    "     return 3 * x ** 2 - 2 * x + 5\n",
    "```                                "
   ]
  },
  {
   "cell_type": "markdown",
   "metadata": {},
   "source": [
    "##### EXERCISE 2.4.1 Define a function with default arguments to find a maximum of  any two numbers. Hint program: To greet a person with a  given default message.\n",
    "```python\n",
    "def greet(name, msg = \"Good morning!\"):\n",
    "   \"\"\"This function greets to\n",
    "   the person with the provided message.\n",
    "   If message is not provided, it defaults\n",
    "   to \"Good morning!\" \"\"\"\n",
    "   \n",
    "   print(\"Hello\",name + ', ' + msg)\n",
    "```"
   ]
  },
  {
   "cell_type": "markdown",
   "metadata": {},
   "source": [
    "##### EXERCISE 2.4.2 Define a function with keyword argument to find an area of rectangle. Hint program: Solve the equation of line for slope 'm' and y-intercept 'c'.\n",
    "```python\n",
    "def line_eq(x, c=-5, m=1.2):\n",
    "    \"\"\"This function is a equation of line\"\"\"\n",
    "    return m * x + c\n",
    "\n",
    "print(line_eq(4))\n",
    "print(line_eq(4,c=2))\n",
    "print(line_eq(4,0.5,2))\n",
    "```"
   ]
  },
  {
   "cell_type": "markdown",
   "metadata": {},
   "source": [
    "##### EXERCISE 2.4.3 Define a function with arbitrary argument to find the arithmetic mean of numbers. Hint program: To greet arbitrary number of persons with a message.\n",
    "```python\n",
    "def greet(*names):\n",
    "   \"\"\"This function greets all the persons in the names tuple.\"\"\"\n",
    "   # names is a tuple with arguments\n",
    "   for name in names:\n",
    "       print(\"Hello\",name)\n",
    "greet(\"Rubi\",\"Perl\",\"Genie\",\"Pascal\")\n",
    "```"
   ]
  },
  {
   "cell_type": "markdown",
   "metadata": {},
   "source": [
    "##### EXERCISE 2.4.4 Using lambda expression and filter() function, write a code to list the cube of numbers in the given list.\n",
    "##### Given : my_list = [15, 8, 56, 32, 29] Hint program: To print twice the value of a number.\n",
    "```python\n",
    "double = lambda x: x * 2\n",
    "\"\"\"This function gives double value of a number\"\"\"\n",
    "\n",
    "print(double(5))\n",
    "```"
   ]
  },
  {
   "cell_type": "markdown",
   "metadata": {},
   "source": [
    "##### EXERCISE 2.4.5 Using lambda expression and map() function, write a code to print the square and cube of a number. Hint program: To double each number in a list.\n",
    "```python\n",
    "my_list = [1, 5, 4, 6, 8, 11, 3, 12]\n",
    "\n",
    "new_list = list(map(lambda x: x * 2 , my_list))\n",
    "print(new_list)\n",
    "```"
   ]
  },
  {
   "cell_type": "markdown",
   "metadata": {},
   "source": [
    "##### EXERCISE 2.4.6 Using lambda expression and reduce() function, write a code for calculating the sum of numbers in range (101)."
   ]
  }
 ],
 "metadata": {
  "kernelspec": {
   "display_name": "Python 2",
   "language": "python",
   "name": "python2"
  },
  "language_info": {
   "codemirror_mode": {
    "name": "ipython",
    "version": 2
   },
   "file_extension": ".py",
   "mimetype": "text/x-python",
   "name": "python",
   "nbconvert_exporter": "python",
   "pygments_lexer": "ipython2",
   "version": "2.7.6"
  }
 },
 "nbformat": 4,
 "nbformat_minor": 0
}
