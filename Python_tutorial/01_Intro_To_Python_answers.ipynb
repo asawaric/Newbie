{
 "cells": [
  {
   "cell_type": "markdown",
   "metadata": {},
   "source": [
    "# 1. Introduction to Python\n"
   ]
  },
  {
   "cell_type": "markdown",
   "metadata": {},
   "source": [
    "Python is a high-level, open-source, general-purpose programming language applicable to many different classes of problems. It has a large standard library that covers areas such as string processing, Internet protocols, software engineering and operating system interfaces.\n",
    "\n",
    "At this point, you should be familiar with:\n",
    "- the use of jupyter/ipython notebook.\n",
    "- the Python types int, float, strings, and lists."
   ]
  },
  {
   "cell_type": "markdown",
   "metadata": {},
   "source": [
    "### Exercise 1. Using Python as a calculator\n",
    "1. Write and execute Python code that computes the following:\n",
    "    * Compute two raised to the power of 20, i.e. 2^20\n",
    "    * Remainder of 1002313 divided by 34\n",
    "    * Convert 100 degrees Celsius to degrees Farenheit.\n",
    "2. What is the difference between the output from three different division below? Do you understand the output?\n",
    "```python\n",
    "91/9.0\n",
    "91/9\n",
    "91//9.\n",
    "```\n",
    "3. If *a is 5.8012923121232* and *b is 6.7283812312*, what is the result of\n",
    "```python\n",
    "(a+a*b)/b*67/a**2\n",
    "```\n",
    "Hint: the answer is xx.xxxx33671496632, where *x* are integers."
   ]
  },
  {
   "cell_type": "code",
   "execution_count": 1,
   "metadata": {
    "collapsed": false
   },
   "outputs": [
    {
     "data": {
      "text/plain": [
       "1048576"
      ]
     },
     "execution_count": 1,
     "metadata": {},
     "output_type": "execute_result"
    }
   ],
   "source": [
    "#1.1 Answer to 2^20\n",
    "2**20"
   ]
  },
  {
   "cell_type": "code",
   "execution_count": 2,
   "metadata": {
    "collapsed": false
   },
   "outputs": [
    {
     "data": {
      "text/plain": [
       "27"
      ]
     },
     "execution_count": 2,
     "metadata": {},
     "output_type": "execute_result"
    }
   ],
   "source": [
    "#1.1 Division of 1002313 by 34\n",
    "1002313%34"
   ]
  },
  {
   "cell_type": "code",
   "execution_count": 5,
   "metadata": {
    "collapsed": false
   },
   "outputs": [
    {
     "name": "stdout",
     "output_type": "stream",
     "text": [
      "212.0\n"
     ]
    }
   ],
   "source": [
    "#1.1 Degree Celcius to degree Farenheit.\n",
    "Ft = 9.0/5.0 * 100 + 32 #Ft is Tempereature in degree Fahrenheit.\n",
    "print Ft"
   ]
  },
  {
   "cell_type": "code",
   "execution_count": 9,
   "metadata": {
    "collapsed": false
   },
   "outputs": [
    {
     "name": "stdout",
     "output_type": "stream",
     "text": [
      "10.1111111111\n",
      "10\n",
      "10.0\n"
     ]
    }
   ],
   "source": [
    "#1.2 Division\n",
    "print 91/9.0   # int/float division is called classic division.It returns float output.\n",
    "print 91/9     # int/int division returns int output\n",
    "print 91//9.   # int/float division is called floor division. It returns float by discarding its fractional part."
   ]
  },
  {
   "cell_type": "code",
   "execution_count": 20,
   "metadata": {
    "collapsed": false
   },
   "outputs": [
    {
     "data": {
      "text/plain": [
       "13.265633671496632"
      ]
     },
     "execution_count": 20,
     "metadata": {},
     "output_type": "execute_result"
    }
   ],
   "source": [
    "#1.3\n",
    "a = 5.8012923121232\n",
    "b = 6.7283812312\n",
    "(a+a*b)/b*67/a**2"
   ]
  },
  {
   "cell_type": "markdown",
   "metadata": {},
   "source": [
    "### Exercise 2. String types and ipython auto-complete.\n",
    "For this exercise define the following variable in Python:\n",
    "```python \n",
    "txt = \"a short text string\"\n",
    "```\n",
    "1. Which of the following text operations are allowed in Python.\n",
    "    * txt + txt\n",
    "    * txt*2\n",
    "    * txt * txt\n",
    "    * txt/txt\n",
    "    * txt - txt\n",
    "2. A Python string is actually a class (you'll learn about this later) that includes its own variables and functions. You can invoke these functions of the string **_txt_** by typing **_txt.function(args)_**. For example, the above string can be split into a list of words with **_txt_**'s member function **_split_**:\n",
    "```python\n",
    "txt.split(' ')\n",
    "```\n",
    "    * Try this. You can see these member functions of a string by typing **_txt_.** (don't forget the '.') into the ipython _Code_ box then hitting the _Tab_ key. A list of member functions of **_txt_** should appear. \n",
    "    * Your turn. Use a member function of string to convert all the letters of **_txt_** into uppercase. You should be executing a function like txt.XXXXX() where the Xs is the name **_txt_**'s member function.\n",
    "    \n",
    "    ##### Asawari feedback: strings quoted in **_str_**  format are unclear. The syntax mentioned are confusing."
   ]
  },
  {
   "cell_type": "code",
   "execution_count": 49,
   "metadata": {
    "collapsed": false
   },
   "outputs": [
    {
     "name": "stdout",
     "output_type": "stream",
     "text": [
      "a short text stringa short text string\n",
      "a short text stringa short text string\n"
     ]
    }
   ],
   "source": [
    "#2.1\n",
    "txt = \"a short text string\"\n",
    "print txt*2\n",
    "print txt + txt\n",
    "# addition of two strings and multiplication of a string by an integer are the two operations allowed in python."
   ]
  },
  {
   "cell_type": "code",
   "execution_count": null,
   "metadata": {
    "collapsed": false
   },
   "outputs": [],
   "source": [
    "#2.1\n",
    "txt * txt  # This operation is not allowed as it gives TypeError: can't multiply sequence by non-int of type 'str'\n",
    "txt/txt    # This operation is not allowed as it gives TypeError: unsupported operand type(s) for /: 'str' and 'str'\n",
    "txt - txt  # This operation is not allowed as it gives TypeError: unsupported operand type(s) for -: 'str' and 'str'"
   ]
  },
  {
   "cell_type": "code",
   "execution_count": 64,
   "metadata": {
    "collapsed": false
   },
   "outputs": [
    {
     "data": {
      "text/plain": [
       "'A SHORT TEXT STRING'"
      ]
     },
     "execution_count": 64,
     "metadata": {},
     "output_type": "execute_result"
    }
   ],
   "source": [
    "#2.2 String as a class.\n",
    "txt = \"a short text string\"\n",
    "#txt.split()\n",
    "txt.upper()"
   ]
  },
  {
   "cell_type": "markdown",
   "metadata": {},
   "source": [
    "### Exercise 3. Python integers, floats and ipython auto-complete.\n",
    "1. Turns out Python integers and floats are also classes. Using the hints from Exercise 2.2 above, can you write out 3.1415 in hexadecimal notation? Answer should be *'0x1.921cac083126fp+1'*\n",
    "2. What is the bit-length of the integer 239912312932123123? (Answer:58)"
   ]
  },
  {
   "cell_type": "code",
   "execution_count": 66,
   "metadata": {
    "collapsed": false
   },
   "outputs": [
    {
     "data": {
      "text/plain": [
       "'0x1.921cac083126fp+1'"
      ]
     },
     "execution_count": 66,
     "metadata": {},
     "output_type": "execute_result"
    }
   ],
   "source": [
    "#3.1 float in hex notation\n",
    "c = 3.1415\n",
    "c.hex()"
   ]
  },
  {
   "cell_type": "code",
   "execution_count": 71,
   "metadata": {
    "collapsed": false
   },
   "outputs": [
    {
     "data": {
      "text/plain": [
       "58"
      ]
     },
     "execution_count": 71,
     "metadata": {},
     "output_type": "execute_result"
    }
   ],
   "source": [
    "#3.2 bit length of an int\n",
    "a = 239912312932123123\n",
    "a.bit_length()"
   ]
  },
  {
   "cell_type": "markdown",
   "metadata": {},
   "source": [
    "### Exercise 4. Lists\n",
    "For the rest of this exercise, define the list (you will learn about the **_range_** function in the next tutorial)\n",
    "```python\n",
    "lst = range(30)\n",
    "```\n",
    "1. Indexing. What is 28th element of **_lst_** raised to the *n*th power, where n is 13th element of **_lst_**? (Answer: 6502111422497947648).\n",
    "2. Print only the even numbers of **_lst_**. What is the length of this new even-number-only list?\n",
    "3. Print every 6th number of **_lst_** starting from 0.\n",
    "4. Print the odd numbers in **_lst_** list in descending order (29,27,25,..1)."
   ]
  },
  {
   "cell_type": "code",
   "execution_count": 82,
   "metadata": {
    "collapsed": false
   },
   "outputs": [
    {
     "data": {
      "text/plain": [
       "6502111422497947648"
      ]
     },
     "execution_count": 82,
     "metadata": {},
     "output_type": "execute_result"
    }
   ],
   "source": [
    "# 4.1\n",
    "lst = range(30)\n",
    "lst\n",
    "lst[28]**lst[13]"
   ]
  },
  {
   "cell_type": "code",
   "execution_count": 13,
   "metadata": {
    "collapsed": false
   },
   "outputs": [
    {
     "name": "stdout",
     "output_type": "stream",
     "text": [
      "[0, 2, 4, 6, 8, 10, 12, 14, 16, 18, 20, 22, 24, 26, 28]\n"
     ]
    },
    {
     "data": {
      "text/plain": [
       "15"
      ]
     },
     "execution_count": 13,
     "metadata": {},
     "output_type": "execute_result"
    }
   ],
   "source": [
    "#4.2\n",
    "lst = range(30)\n",
    "lst_even = lst[::2]\n",
    "print lst_even\n",
    "len(lst_even)   "
   ]
  },
  {
   "cell_type": "code",
   "execution_count": 21,
   "metadata": {
    "collapsed": false
   },
   "outputs": [
    {
     "name": "stdout",
     "output_type": "stream",
     "text": [
      "[0, 6, 12, 18, 24]\n"
     ]
    }
   ],
   "source": [
    "#4.3\n",
    "lst = range(30)\n",
    "print lst[0:30:6]"
   ]
  },
  {
   "cell_type": "code",
   "execution_count": 22,
   "metadata": {
    "collapsed": false
   },
   "outputs": [
    {
     "name": "stdout",
     "output_type": "stream",
     "text": [
      "[29, 27, 25, 23, 21, 19, 17, 15, 13, 11, 9, 7, 5, 3, 1]\n"
     ]
    }
   ],
   "source": [
    "#4.4 \n",
    "lst = range(30)\n",
    "print lst[-1:0:-2]"
   ]
  }
 ],
 "metadata": {
  "kernelspec": {
   "display_name": "Python 2",
   "language": "python",
   "name": "python2"
  },
  "language_info": {
   "codemirror_mode": {
    "name": "ipython",
    "version": 2
   },
   "file_extension": ".py",
   "mimetype": "text/x-python",
   "name": "python",
   "nbconvert_exporter": "python",
   "pygments_lexer": "ipython2",
   "version": "2.7.6"
  }
 },
 "nbformat": 4,
 "nbformat_minor": 0
}
