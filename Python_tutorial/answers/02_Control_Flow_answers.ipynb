{
 "cells": [
  {
   "cell_type": "markdown",
   "metadata": {},
   "source": [
    "# 2. Control Flow Tools"
   ]
  },
  {
   "cell_type": "markdown",
   "metadata": {},
   "source": [
    "A program's control flow is the order in which program's code executes.\n",
    "Python provides various tools for flow control such as:\n",
    "* while, \n",
    "* if, \n",
    "* for, \n",
    "* range, \n",
    "* break, \n",
    "* continue, \n",
    "* pass.\n",
    "\n",
    "In this tutorial, we will use some of these flow control constructs to create functions in Python."
   ]
  },
  {
   "cell_type": "markdown",
   "metadata": {},
   "source": [
    "----\n",
    "### Exercise 1. For loops and defining your own functions.\n",
    "#### Defining your own functions are a key step to writing legible, concise code. It allows us to practice a golden rule in programming: \"Don't Repeat Yourself\", or the DRY-principle.\n",
    "#### Relevant reading: pytut 4.6\n",
    "1. There are 4 `for` loops below. Can you tell which ones will fail to execute? Can you explain why?\n",
    "```python\n",
    "lst = [1,2,3,4]\n",
    "#\n",
    "for elem in lst:\n",
    "    print elem\n",
    "#\n",
    "for elem in lst:\n",
    "    print sum(lst)\n",
    "#\n",
    "for elem in lst:\n",
    "    print sum(elem)\n",
    "#\n",
    "for elem in lst:\n",
    "    print lst[elem]    \n",
    "```\n",
    "2. Write a function, `count_vowels(in_string)`, that returns the number of vowels in a word. Test your function on some words (e.g. *sheep*, *cow*, *chicken*). Modifying the following code block could be helpful.\n",
    "```python\n",
    "def count_even_digits(in_number):\n",
    "    counts = 0\n",
    "    for letter in str(in_number):\n",
    "        if int(letter) in [0,2,4,6,8]:\n",
    "            counts += 1\n",
    "    return counts\n",
    "```\n",
    "3. Use the function `count_vowels(in_string)` that you wrote above inside a `for` loop to print the number of vowels in each word of the following text string:\n",
    "```python\n",
    "txt = \"This is the most wonderful Python exercise in the world!\"\n",
    "txtList = txt.split(\" \")\n",
    "```\n",
    "Note that in the last code line we split the text string into a list of words with `txt.split(separator)`. The answer should be __[1, 1, 1, 1, 3, 1, 4, 1, 1, 1]__."
   ]
  },
  {
   "cell_type": "code",
   "execution_count": 12,
   "metadata": {
    "collapsed": false
   },
   "outputs": [
    {
     "name": "stdout",
     "output_type": "stream",
     "text": [
      "1\n",
      "2\n",
      "3\n",
      "4\n"
     ]
    }
   ],
   "source": [
    "#1.1\n",
    "lst = [1,2,3,4]\n",
    "for elem in lst:\n",
    "    print elem"
   ]
  },
  {
   "cell_type": "code",
   "execution_count": 13,
   "metadata": {
    "collapsed": false
   },
   "outputs": [
    {
     "name": "stdout",
     "output_type": "stream",
     "text": [
      "10\n",
      "10\n",
      "10\n",
      "10\n"
     ]
    }
   ],
   "source": [
    "#1.1\n",
    "for elem in lst:\n",
    "    print sum(lst)"
   ]
  },
  {
   "cell_type": "code",
   "execution_count": null,
   "metadata": {
    "collapsed": false
   },
   "outputs": [],
   "source": [
    "#1.1\n",
    "for elem in lst:    # This for loop will be failed to execute as it gives TypeError: 'int' object is not iterable.\n",
    "    print sum(elem)"
   ]
  },
  {
   "cell_type": "code",
   "execution_count": null,
   "metadata": {
    "collapsed": false
   },
   "outputs": [],
   "source": [
    "#1.1\n",
    "for elem in lst:    # This for loop will be failed to execute complete loop due to IndexError: list index out of range\n",
    "    print lst[elem]"
   ]
  },
  {
   "cell_type": "code",
   "execution_count": 14,
   "metadata": {
    "collapsed": false
   },
   "outputs": [
    {
     "name": "stdout",
     "output_type": "stream",
     "text": [
      "2\n",
      "1\n",
      "2\n"
     ]
    }
   ],
   "source": [
    "#1.2 Count the number of vowels\n",
    "def count_vowels(in_string):\n",
    "    count = 0\n",
    "    vowels = \"aeiouAEIOU\"\n",
    "    for letter in str(in_string):\n",
    "        if str(letter) in vowels:\n",
    "            count += 1\n",
    "    return count\n",
    "print count_vowels(\"sheep\")\n",
    "print count_vowels(\"cow\")\n",
    "print count_vowels(\"chicken\")"
   ]
  },
  {
   "cell_type": "code",
   "execution_count": 38,
   "metadata": {
    "collapsed": false
   },
   "outputs": [
    {
     "name": "stdout",
     "output_type": "stream",
     "text": [
      "[1, 1, 1, 1, 3, 1, 4, 1, 1, 1]\n"
     ]
    }
   ],
   "source": [
    "#1.3 Print the number of vowels in each word of the string\n",
    "\n",
    "txt = \"This is the most wonderful Python exercise in the world!\"\n",
    "txtList = txt.split()\n",
    "v = []\n",
    "for i in txtList:\n",
    "    v.append(count_vowels(i))\n",
    "print v"
   ]
  },
  {
   "cell_type": "markdown",
   "metadata": {},
   "source": [
    "---- \n",
    "### Exercise 2. Guessing game within a `while` loop.\n",
    "#### While loops are useful when the number of times to execute a loop is unknown or arbitrary. We see such an example here.\n",
    "#### Relevant reading: pytut 4.4\n",
    "\n",
    "Modify the while loop below into a number guessing game. \n",
    "* First we use the built-in python library `random` to generate a hidden random integer from 0-10. \n",
    "* Then, we use a while loop to let the user guess this number. \n",
    "* Design this loop with `if-else`, `break` and `continue` such that it terminates until the user guesses the correct number.\n",
    "```python\n",
    "import random\n",
    "rand_number = random.randint(0,10)\n",
    "while True:\n",
    "    input_integer = int(raw_input(\"Please enter an integer: \"))\n",
    "    #Enter if-else block to check if input_integer equals rand_number\n",
    "```\n",
    "Note: be careful not to confuse the `=` and `==` operators."
   ]
  },
  {
   "cell_type": "code",
   "execution_count": 27,
   "metadata": {
    "collapsed": false
   },
   "outputs": [
    {
     "name": "stdout",
     "output_type": "stream",
     "text": [
      "Please enter an integer: 2\n",
      "wrong number, please try again\n",
      "Please enter an integer: 4\n",
      "wrong number, please try again\n",
      "Please enter an integer: 7\n",
      "wrong number, please try again\n",
      "Please enter an integer: 9\n",
      "you guessed the correct number\n",
      "9\n"
     ]
    }
   ],
   "source": [
    "#2.1 Guessing random number using while and if-else\n",
    "import random\n",
    "rand_number = random.randint(0,10)\n",
    "while True:\n",
    "  input_integer = int(raw_input(\"Please enter an integer: \"))\n",
    "  if input_integer == rand_number:\n",
    "        print \"you guessed the correct number\"\n",
    "        break\n",
    "  else:\n",
    "        print \"wrong number, please try again\"\n",
    "        continue\n",
    "print rand_number"
   ]
  },
  {
   "cell_type": "markdown",
   "metadata": {},
   "source": [
    "----\n",
    "### Exercise 3. `If-Else` conditions and lambda expressions. \n",
    "#### Lambda expressions, in its simplest and most practical uses within Python, is a compact way of defining simple functions. \n",
    "#### Relevant reading: pytut 4.7.5\n",
    "\n",
    "1. Write a lambda function `my_lambda` takes in an integer as input, and returns the twice this integer if it is odd. Even input are returned unchanged. For reference, here's the non-lambda function version.\n",
    "```python\n",
    "def even_numberer(input_int):\n",
    "    if (input_int%2 == 1):\n",
    "        return 2*input_int\n",
    "    else:\n",
    "        return input_int\n",
    "```\n",
    "Hint: the lambda function's `if-else` form looks like this:\n",
    "```python\n",
    "my_lambda = lambda var: (output_if_true) if (condition) else (output_if_false)\n",
    "```\n",
    "2. Use your `my_lambda` function above within a `for` loop to compute the sum of all numbers from 1 to 1000, with the catch that odd numbers have to be doubled before adding to this sum. \n",
    "    * This sum should be `750500`. "
   ]
  },
  {
   "cell_type": "code",
   "execution_count": 28,
   "metadata": {
    "collapsed": false
   },
   "outputs": [
    {
     "name": "stdout",
     "output_type": "stream",
     "text": [
      "8\n",
      "18\n"
     ]
    }
   ],
   "source": [
    "#3.1 Lambda function with if-else statement to print odd and even numbers with given condition.\n",
    "my_lambda = lambda x: (x*2) if x%2 != 0 else x\n",
    "print my_lambda(8)\n",
    "print my_lambda(9)"
   ]
  },
  {
   "cell_type": "code",
   "execution_count": 29,
   "metadata": {
    "collapsed": false
   },
   "outputs": [
    {
     "name": "stdout",
     "output_type": "stream",
     "text": [
      "750500\n"
     ]
    }
   ],
   "source": [
    "#3.2 Sum of all numbers from 1 to 1000 using lambda function\n",
    "Total = 0\n",
    "for x in range(1001):\n",
    "    my_lambda(x)\n",
    "    Total += my_lambda(x)\n",
    "print Total"
   ]
  },
  {
   "cell_type": "markdown",
   "metadata": {},
   "source": [
    "----\n",
    "### EXERCISE 4. Default arguments and unpacking lists as arbitrary arguments for functions.\n",
    "#### Once in a while we have functions with an indeterminate number of input arguments. This is commonly encountered in plotting functions that accept non-default options to modify the color of lines, font-size, plot sizes etc.\n",
    "#### Relevant reading: pytut 4.7.1 and 4.1.4\n",
    "\n",
    "1. The `greet` function below *greets* the `user` by default with *Hello*. However, non-default input arguments can also be used. Here is an example.\n",
    "```python\n",
    "def greet(names=['user'], greeting=\"Hello\"):\n",
    "   \"\"\"This function greets all the persons in the names tuple.\"\"\"\n",
    "   # names is a tuple with arguments\n",
    "   for name in names:\n",
    "       print greeting, name\n",
    "# Default greeting.\n",
    "greet()\n",
    "# Input a list of names to whom we should greet.\n",
    "dict1 = {\"names\":[\"John\", \"Adam\"]}\n",
    "greet(**dict1)\n",
    "# Update dict1 with new key-value for greeting.\n",
    "dict1.update({\"greeting\":\"Hi,\"})\n",
    "greet(**dict1)\n",
    "```\n",
    "    * Can you modify this example to greet \"__Alice__\", \"__Bob__\" and \"__Charlie__\" with the greeting \"__HOLA__\"? \n",
    "2. Write a function `unpack_and_sum` that unpacks any number of integer inputs and totals them. Here's an example that should print out __14__.\n",
    "```python\n",
    ">>> unpack_and_sum(1,2,3,4,4)\n",
    "14\n",
    "```\n",
    "3. Use the function in part 2 on unpack and sum the elements in the following list\n",
    "```python\n",
    "# Create a list of numbers\n",
    "lst = [x**x for x in range(10)]\n",
    "# Use your function to compute this list\n",
    "unpack_and_sum(*lst)\n",
    "```\n",
    "The correct sum of `lst` is `405071318`."
   ]
  },
  {
   "cell_type": "code",
   "execution_count": 39,
   "metadata": {
    "collapsed": false
   },
   "outputs": [
    {
     "name": "stdout",
     "output_type": "stream",
     "text": [
      "Hello Alice\n",
      "Hello Bob\n",
      "Hello Charlie\n"
     ]
    }
   ],
   "source": [
    "#4.1 Greeting persons \n",
    "def greet(names=['user'], greeting=\"Hello\"):\n",
    "    \"\"\"This function greets all the persons in the names tuple.\"\"\"\n",
    "# names is a tuple with arguments\n",
    "    for name in names:\n",
    "        print greeting, name\n",
    "        dict1 = {\"names\":[\"Alice\", \"Bob\", \"Charlie\"]} \n",
    "greet(**dict1)    "
   ]
  },
  {
   "cell_type": "code",
   "execution_count": 30,
   "metadata": {
    "collapsed": false
   },
   "outputs": [
    {
     "data": {
      "text/plain": [
       "200"
      ]
     },
     "execution_count": 30,
     "metadata": {},
     "output_type": "execute_result"
    }
   ],
   "source": [
    "#4.2 Function unpack_and_sum for sum of arbitrary integers.\n",
    "def unpack_and_sum(*integers):\n",
    "    return sum(integers)\n",
    "unpack_and_sum(2,4,60,80,24,30)"
   ]
  },
  {
   "cell_type": "code",
   "execution_count": 1,
   "metadata": {
    "collapsed": false
   },
   "outputs": [
    {
     "data": {
      "text/plain": [
       "405071318"
      ]
     },
     "execution_count": 1,
     "metadata": {},
     "output_type": "execute_result"
    }
   ],
   "source": [
    "#4.3 Function unpack_and_sum for sum of arbitrary list of integers.\n",
    "lst = [x**x for x in range(10)]\n",
    "def unpack_and_sum(*lst):\n",
    "    return sum(lst)\n",
    "unpack_and_sum(*lst)  "
   ]
  }
 ],
 "metadata": {
  "kernelspec": {
   "display_name": "Python 2",
   "language": "python",
   "name": "python2"
  },
  "language_info": {
   "codemirror_mode": {
    "name": "ipython",
    "version": 2
   },
   "file_extension": ".py",
   "mimetype": "text/x-python",
   "name": "python",
   "nbconvert_exporter": "python",
   "pygments_lexer": "ipython2",
   "version": "2.7.6"
  }
 },
 "nbformat": 4,
 "nbformat_minor": 0
}
