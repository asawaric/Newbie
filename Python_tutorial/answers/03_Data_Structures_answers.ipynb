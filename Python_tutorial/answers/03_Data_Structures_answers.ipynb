{
 "cells": [
  {
   "cell_type": "markdown",
   "metadata": {},
   "source": [
    "# Data structures\n",
    "\n",
    "You should be familiar with the following topics before trying these exercises. A comprehensive tutorial on data structures can be found at https://docs.python.org/2/tutorial/datastructures.html\n",
    "\n",
    "* Lists as stacks (last-in, first-out)\n",
    "* Lists as queues (first-in, first-out)\n",
    "* Functional programming tools\n",
    "* List comprehension and nested list comprehension\n",
    "* The ```del``` statement\n",
    "* Tuples and sequences\n",
    "* Sets\n",
    "* Dictionaries\n"
   ]
  },
  {
   "cell_type": "markdown",
   "metadata": {},
   "source": [
    "---\n",
    "### Exercise 1: Appending to lists.\n",
    "#### Often we will encounter arbitarily long lists of values in programming. Also often you do not know how long this list will become. It is common to keep track of these values by appending them to a growing list. Here's a simple example of this.\n",
    "\n",
    "1. Write a program that sequentially prompts a user for strings that are then appended to a list. Once all entries to the list are entered, print the entries of the list in reverse order (e.g. last entry is printed first). Both lists and deques can accomplish this. A hint program that does something similar is shown below.\n",
    "```python\n",
    "ans_array = []\n",
    "while True:\n",
    "    in_str = raw_input(\"Enter a string to be appended to this list. Type ! to discontinue\\n\")\n",
    "    if in_str not in ['!']: \n",
    "        ans_array.append(in_str)\n",
    "    else:\n",
    "        break\n",
    "print \"*\"*80, \"\\n\"\n",
    "for a in ans_array:\n",
    "    print a\n",
    "```"
   ]
  },
  {
   "cell_type": "code",
   "execution_count": 1,
   "metadata": {
    "collapsed": false
   },
   "outputs": [
    {
     "name": "stdout",
     "output_type": "stream",
     "text": [
      "Enter a string to be appended to this list. Type ! to discontinue\n",
      "here\n",
      "Enter a string to be appended to this list. Type ! to discontinue\n",
      "come\n",
      "Enter a string to be appended to this list. Type ! to discontinue\n",
      "kid\n",
      "Enter a string to be appended to this list. Type ! to discontinue\n",
      "hey\n",
      "Enter a string to be appended to this list. Type ! to discontinue\n",
      "!\n",
      "******************************************************************************** \n",
      "\n",
      "hey\n",
      "kid\n",
      "come\n",
      "here\n"
     ]
    }
   ],
   "source": [
    "#1.1\n",
    "ans_array = []\n",
    "while True:\n",
    " in_str = raw_input(\"Enter a string to be appended to this list. Type ! to discontinue\\n\")\n",
    " if in_str not in ['!']: \n",
    "     ans_array.append(in_str)\n",
    " else:\n",
    "     break\n",
    "print \"*\"*80, \"\\n\"\n",
    "for a in reversed(ans_array):\n",
    " print a"
   ]
  },
  {
   "cell_type": "markdown",
   "metadata": {
    "collapsed": false
   },
   "source": [
    "---\n",
    "### Exercise 2: Filtering, Mapping, and Reducing.\n",
    "#### These three operations are commonly used on lists to apply or select elements using user-specified conditions. \n",
    "##### Relevant reading: Python tutorial 4.7.5 and 5.1.3\n",
    "\n",
    "1. Using the `filter` function, find all the **even** integers from 1 to 200 that are also divisible by 13. Here's a hint program:\n",
    "```python\n",
    "divisible_by_13 = lambda x: ((x%13)==0)\n",
    "filter(divisible_by_13, range(1,201))\n",
    "```\n",
    "2. Modify the last program to return the product of all the even numbers between 1 to 200. \n",
    "    * First create a lambda function `prod` that multiplies two arguments.\n",
    "    * Use this `prod` function with `reduce` function on the output of item 1.\n",
    "    * The answer is **40480323287040**.\n",
    "3. Modify your program in the last part to return the sum of the squares of all even numbers from 1 to 200 that are divisible by 13. \n",
    "    * Write an `add` lambda function that adds two arguments.\n",
    "    * Write a `squared` lambda function that multiplies an argument by itself.\n",
    "    * Using the `map` function with `squared`, create a list of the squared of all even numbers from 1 to 200 that are also divisible by 13.\n",
    "    * The answer is **94640**."
   ]
  },
  {
   "cell_type": "code",
   "execution_count": 2,
   "metadata": {
    "collapsed": false
   },
   "outputs": [
    {
     "data": {
      "text/plain": [
       "[26, 52, 78, 104, 130, 156, 182]"
      ]
     },
     "execution_count": 2,
     "metadata": {},
     "output_type": "execute_result"
    }
   ],
   "source": [
    "#2.1 Using filter() function find all the even integers from 1 to 200 that are divisible by 13. \n",
    "divisible_by_13 = lambda x: ((x%13)==0)&((x%2)==0)\n",
    "filter(divisible_by_13, range(1,201))"
   ]
  },
  {
   "cell_type": "code",
   "execution_count": 3,
   "metadata": {
    "collapsed": false
   },
   "outputs": [
    {
     "data": {
      "text/plain": [
       "40480323287040"
      ]
     },
     "execution_count": 3,
     "metadata": {},
     "output_type": "execute_result"
    }
   ],
   "source": [
    "#2.2 Using lambda function find the product of all the even numbers between 1 to 200.\n",
    "divisible_by_13 = lambda x: ((x%13)==0)&((x%2)==0)\n",
    "filter(divisible_by_13, range(1,201))\n",
    "prod = lambda x, y: x * y\n",
    "reduce(prod, filter(divisible_by_13, range(1,201)))"
   ]
  },
  {
   "cell_type": "code",
   "execution_count": 4,
   "metadata": {
    "collapsed": false
   },
   "outputs": [
    {
     "data": {
      "text/plain": [
       "94640"
      ]
     },
     "execution_count": 4,
     "metadata": {},
     "output_type": "execute_result"
    }
   ],
   "source": [
    "#2.3 Using lambda function find the sum of square of all the even numbers from 1 to 200 that are also divisible by 13. \n",
    "squared = lambda x: x*x\n",
    "c = map(squared, filter(divisible_by_13, range(1,201)))\n",
    "add = lambda x, y: x+y\n",
    "reduce(add, c)"
   ]
  },
  {
   "cell_type": "markdown",
   "metadata": {},
   "source": [
    "---- \n",
    "### Exercise 3: Regular, nested, and conditional list comprehensions.\n",
    "#### List comprehensions are compact and useful methods for looping over, selecting subsets of, and reshaping lists and tuples.\n",
    "##### Relevant reading: Python Tutorial 5.1.4\n",
    "\n",
    "1. Using nested list comprehension plus a conditional clause, create a two-level list named `unflat` comprising sublists [x,y] such that y>x for 0<=x<=5 and 0<=y<=5.\n",
    "   * Hint: \n",
    "   ```python \n",
    "   unflat = [(result) for x in (range_of_x) for y in (range_of_y) if (condition)]\n",
    "   ```\n",
    "2. Using a single list comprehension, re-write the program in exercise 2.3 above -- sum of squares of even numbers divisible by 13 for numbers from 1 to 200. \n",
    "    * Hint: you can use the function `sum(list)` to add all the elements of a list. Otherwise, you can also use `reduce`. "
   ]
  },
  {
   "cell_type": "code",
   "execution_count": 5,
   "metadata": {
    "collapsed": false
   },
   "outputs": [
    {
     "name": "stdout",
     "output_type": "stream",
     "text": [
      "[(0, 1), (0, 2), (0, 3), (0, 4), (0, 5), (1, 2), (1, 3), (1, 4), (1, 5), (2, 3), (2, 4), (2, 5), (3, 4), (3, 5), (4, 5)]\n"
     ]
    }
   ],
   "source": [
    "#3.1 Create a two level list named 'unflat' comprising sublists [x,y] for given condition.\n",
    "unflat = [(x, y) for x in (range(0,6)) for y in (range(0,6)) if y > x]\n",
    "print unflat"
   ]
  },
  {
   "cell_type": "code",
   "execution_count": 6,
   "metadata": {
    "collapsed": false
   },
   "outputs": [
    {
     "name": "stdout",
     "output_type": "stream",
     "text": [
      "94640\n"
     ]
    }
   ],
   "source": [
    "#3.2 Using single list comprehensions, find the sum of squares of even numbers that are divisible by 13 in range(200).\n",
    "Result = [x**2 for x in range(200) if ((x%13)==0)&((x%2)==0)]\n",
    "print sum(Result)"
   ]
  },
  {
   "cell_type": "markdown",
   "metadata": {
    "collapsed": true
   },
   "source": [
    "### Exercise 4: Making new tuples from old.\n",
    "#### Tuples are often used in Python. Because they are immutable once they are defined, we often compose new tuples out of existing immutable ones.\n",
    "##### Relevant reading: Python tutorial 5.3\n",
    "\n",
    "1. Consider the tuple `long_tup` below. Add the terms \"Computation\" and \"9999\" to this tuple.\n",
    "```python\n",
    "long_tup = 'Physics', 'Biology', '14567', '21345','Chemistry', 'Mathematics', '5698', '3427'\n",
    "```\n",
    "2. Why does `long_tup[0] = \"Test\"` fail?\n",
    "2. Create two tuples from the `long_tup` tuple above: `alph` and `num`. The `alph` tuple only has words, while `num` only contains numbers.\n",
    "    * Hint1: you can use `txt.isalpha()` to test if a string contains only letters of the alphabet. \n",
    "    * Hint2: check out `txt.isdigit()`.\n",
    "3. Use `zip` within a list comprehension on the two tuples you created in part 1 to create the following tuple of tuples. The pairing of numbers to words is unimportant here.\n",
    "```python\n",
    "[('14567', 'Physics'),\n",
    " ('21345', 'Biology'),\n",
    " ('3427', 'Mathematics'),\n",
    " ('5698', 'Chemistry'),\n",
    " ('9999', 'Computation')]\n",
    "```"
   ]
  },
  {
   "cell_type": "code",
   "execution_count": 7,
   "metadata": {
    "collapsed": false
   },
   "outputs": [
    {
     "name": "stdout",
     "output_type": "stream",
     "text": [
      "('Physics', 'Biology', '14567', '21345', 'Chemistry', 'Mathematics', '5698', '3427', 'Computation', '9999')\n"
     ]
    }
   ],
   "source": [
    "#4.1 Adding extra terms to the tuple\n",
    "long_tup = 'Physics', 'Biology', '14567', '21345','Chemistry', 'Mathematics', '5698', '3427'\n",
    "long_tup += ('Computation', '9999')\n",
    "print long_tup"
   ]
  },
  {
   "cell_type": "code",
   "execution_count": null,
   "metadata": {
    "collapsed": true
   },
   "outputs": [],
   "source": [
    "#4.2 Why does long_tup[0] = \"Test\" fail?\n",
    "long_tup[0] = \"Test\" # fails because tuples are immutable. Once the tuple is defined, its content can not be changed."
   ]
  },
  {
   "cell_type": "code",
   "execution_count": 8,
   "metadata": {
    "collapsed": false
   },
   "outputs": [
    {
     "name": "stdout",
     "output_type": "stream",
     "text": [
      "['Physics', 'Biology', 'Chemistry', 'Mathematics', 'Computation']\n",
      "['14567', '21345', '5698', '3427', '9999']\n"
     ]
    }
   ],
   "source": [
    "#4.3 \n",
    "alph = [(a) for a in long_tup if a.isalpha()]\n",
    "print alph\n",
    "num = [a for a in long_tup if a.isdigit()]\n",
    "print num"
   ]
  },
  {
   "cell_type": "code",
   "execution_count": 9,
   "metadata": {
    "collapsed": false
   },
   "outputs": [
    {
     "data": {
      "text/plain": [
       "['(14567, Physics)',\n",
       " '(21345, Biology)',\n",
       " '(5698, Chemistry)',\n",
       " '(3427, Mathematics)',\n",
       " '(9999, Computation)']"
      ]
     },
     "execution_count": 9,
     "metadata": {},
     "output_type": "execute_result"
    }
   ],
   "source": [
    "#4.4 Using zip function, create  tuple of tuples.\n",
    "alph = ('Physics', 'Biology', 'Chemistry', 'Mathematics', 'Computation')\n",
    "num = ('14567', '21345', '5698', '3427', '9999')\n",
    "['({0}, {1})'.format(n, a) for n, a in zip(num, alph)]   "
   ]
  },
  {
   "cell_type": "markdown",
   "metadata": {},
   "source": [
    "### Exercise 5. Sets, set comprehension, and the Asimov's rules for robots.\n",
    "#### Sets are useful ways of computing membership of objects in lists. Here is an example that can be generalized to comparing many different sets (e.g. words in a paragraph, numbers in a list, files in a directory).\n",
    "##### Relevant reading: Python Tutorial 5.4\n",
    "\n",
    "1. Consider the list of strings `asimov_robot_rules` below. Using set comprehension, count the number of unique words in this list.\n",
    "```python \n",
    "asimov_robot_rules = \"A robot may not injure a human being or, through inaction, allow a human being to come to harm. A robot must obey orders given it by human beings except where such orders would conflict with the First Law. A robot must protect its own existence as long as such protection does not conflict with the First or Second Law.\".split(' ')\n",
    "```\n",
    "    * Hint1: to avoid double counting identical letters because of upper or lower case, use `txt.lower()`\n",
    "    * Hint2: use `txt.rstrip('.')` to remove trailing periods in words. You can concatenate these two hints as `txt.lower().rstrip('.')`.\n",
    "    * Hint3: don't forget to modify hint 2 to remove the trailing commas too!\n",
    "    * There should be 39 unique words in the list `asimov_robot_rules`.\n",
    "2. Now consider the same for the string list `asimov_tool_rules` below. \n",
    "```python\n",
    "asimov_tool_rules = \"A tool must not be unsafe to use. Hammers have handles and screwdrivers have hilts to help increase grip. It is of course possible for a person to injure himself with one of these tools, but that injury would only be due to his incompetence, not the design of the tool. A tool must perform its function efficiently unless this would harm the user. This is the entire reason ground-fault circuit interrupters exist. Any running tool will have its power cut if a circuit senses that some current is not returning to the neutral wire, and hence might be flowing through the user. The safety of the user is paramount. A tool must remain intact during its use unless its destruction is required for its use or for safety. For example, Dremel disks are designed to be as tough as possible without breaking unless the job requires it to be spent. Furthermore, they are designed to break at a point before the shrapnel velocity could seriously injure someone\".split(' ')\n",
    "```\n",
    "    * How many words does this list have in common with `asimov_robot_rules` (__Answer: 14__)?\n",
    "    * How many words are unique to one list and not the other (__Answer: 25 and 87__)?\n"
   ]
  },
  {
   "cell_type": "code",
   "execution_count": 10,
   "metadata": {
    "collapsed": false
   },
   "outputs": [
    {
     "name": "stdout",
     "output_type": "stream",
     "text": [
      "set(['harm', 'own', 'being', 'it', 'beings', 'through', 'human', 'existence', 'orders', 'as', 'second', 'given', 'would', 'injure', 'with', 'except', 'long', 'its', 'to', 'does', 'conflict', 'inaction', 'obey', 'may', 'protection', 'not', 'such', 'law', 'come', 'by', 'must', 'a', 'protect', 'robot', 'allow', 'the', 'where', 'or', 'first'])\n"
     ]
    },
    {
     "data": {
      "text/plain": [
       "39"
      ]
     },
     "execution_count": 10,
     "metadata": {},
     "output_type": "execute_result"
    }
   ],
   "source": [
    "#5.1\n",
    "asimov_robot_rules = \"A robot may not injure a human being or, through inaction, allow a human being to come to harm. A robot must obey orders given it by human beings except where such orders would conflict with the First Law. A robot must protect its own existence as long as such protection does not conflict with the First or Second Law.\".split(' ')\n",
    "asimov_robot_rules2 = [word.lower().rstrip('.').rstrip(',') for word in asimov_robot_rules]\n",
    "print set(asimov_robot_rules2)\n",
    "len(set(asimov_robot_rules2))"
   ]
  },
  {
   "cell_type": "code",
   "execution_count": 11,
   "metadata": {
    "collapsed": false
   },
   "outputs": [
    {
     "name": "stdout",
     "output_type": "stream",
     "text": [
      "set(['help', 'course', 'through', 'destruction', 'its', 'before', 'increase', 'cut', 'screwdrivers', 'to', 'only', 'hammers', 'might', 'grip', 'his', 'returning', 'hilts', 'break', 'they', 'not', 'during', 'entire', 'ground-fault', 'disks', 'this', 'someone', 'harm', 'some', 'design', 'are', 'unless', 'intact', 'wire', 'for', 'furthermore', 'current', 'seriously', 'safety', 'flowing', 'be', 'power', 'reason', 'of', 'could', 'job', 'circuit', 'hence', 'or', 'user', 'tough', 'point', 'one', 'dremel', 'tools', 'use', 'would', 'injure', 'due', 'handles', 'injury', 'function', 'himself', 'that', 'tool', 'but', 'neutral', 'with', 'must', 'shrapnel', 'these', 'will', 'remain', 'example', 'and', 'is', 'unsafe', 'it', 'as', 'senses', 'exist', 'at', 'have', 'any', 'if', 'perform', 'breaking', 'interrupters', 'paramount', 'incompetence', 'possible', 'running', 'designed', 'efficiently', 'a', 'required', 'spent', 'person', 'without', 'velocity', 'the', 'requires'])\n"
     ]
    },
    {
     "data": {
      "text/plain": [
       "101"
      ]
     },
     "execution_count": 11,
     "metadata": {},
     "output_type": "execute_result"
    }
   ],
   "source": [
    "#5.1\n",
    "asimov_tool_rules = \"A tool must not be unsafe to use. Hammers have handles and screwdrivers have hilts to help increase grip. It is of course possible for a person to injure himself with one of these tools, but that injury would only be due to his incompetence, not the design of the tool. A tool must perform its function efficiently unless this would harm the user. This is the entire reason ground-fault circuit interrupters exist. Any running tool will have its power cut if a circuit senses that some current is not returning to the neutral wire, and hence might be flowing through the user. The safety of the user is paramount. A tool must remain intact during its use unless its destruction is required for its use or for safety. For example, Dremel disks are designed to be as tough as possible without breaking unless the job requires it to be spent. Furthermore, they are designed to break at a point before the shrapnel velocity could seriously injure someone\".split(' ')\n",
    "asimov_tool_rules2 = [text.lower().rstrip('.').rstrip(',') for text in asimov_tool_rules]\n",
    "print set(asimov_tool_rules2)\n",
    "len(set(asimov_tool_rules2))"
   ]
  },
  {
   "cell_type": "code",
   "execution_count": 12,
   "metadata": {
    "collapsed": false
   },
   "outputs": [
    {
     "name": "stdout",
     "output_type": "stream",
     "text": [
      "set(['a', 'harm', 'would', 'injure', 'it', 'or', 'to', 'as', 'through', 'not', 'the', 'with', 'its', 'must'])\n"
     ]
    },
    {
     "data": {
      "text/plain": [
       "14"
      ]
     },
     "execution_count": 12,
     "metadata": {},
     "output_type": "execute_result"
    }
   ],
   "source": [
    "#5.2\n",
    "a = set(asimov_robot_rules2)\n",
    "b = set(asimov_tool_rules2)\n",
    "print a & b\n",
    "len(a & b)"
   ]
  },
  {
   "cell_type": "code",
   "execution_count": 13,
   "metadata": {
    "collapsed": false
   },
   "outputs": [
    {
     "name": "stdout",
     "output_type": "stream",
     "text": [
      "set(['own', 'being', 'robot', 'second', 'human', 'existence', 'orders', 'given', 'except', 'long', 'does', 'conflict', 'inaction', 'obey', 'may', 'protection', 'such', 'law', 'come', 'by', 'protect', 'beings', 'allow', 'where', 'first'])\n"
     ]
    },
    {
     "data": {
      "text/plain": [
       "25"
      ]
     },
     "execution_count": 13,
     "metadata": {},
     "output_type": "execute_result"
    }
   ],
   "source": [
    "#5.2 \n",
    "print a - b\n",
    "len(a - b)"
   ]
  },
  {
   "cell_type": "code",
   "execution_count": 14,
   "metadata": {
    "collapsed": false
   },
   "outputs": [
    {
     "name": "stdout",
     "output_type": "stream",
     "text": [
      "set(['help', 'course', 'before', 'increase', 'cut', 'screwdrivers', 'only', 'hammers', 'might', 'grip', 'someone', 'returning', 'hilts', 'break', 'they', 'during', 'entire', 'senses', 'ground-fault', 'disks', 'these', 'some', 'design', 'are', 'unless', 'intact', 'wire', 'for', 'furthermore', 'current', 'seriously', 'safety', 'flowing', 'be', 'power', 'reason', 'of', 'could', 'job', 'efficiently', 'hence', 'user', 'tough', 'point', 'one', 'dremel', 'tools', 'use', 'due', 'handles', 'injury', 'function', 'himself', 'that', 'tool', 'but', 'neutral', 'shrapnel', 'this', 'will', 'remain', 'example', 'and', 'is', 'unsafe', 'his', 'exist', 'at', 'have', 'any', 'if', 'perform', 'breaking', 'interrupters', 'paramount', 'circuit', 'incompetence', 'possible', 'running', 'designed', 'destruction', 'required', 'spent', 'person', 'without', 'velocity', 'requires'])\n"
     ]
    },
    {
     "data": {
      "text/plain": [
       "87"
      ]
     },
     "execution_count": 14,
     "metadata": {},
     "output_type": "execute_result"
    }
   ],
   "source": [
    "print b - a\n",
    "len(b - a)"
   ]
  },
  {
   "cell_type": "markdown",
   "metadata": {},
   "source": [
    "### Exercise 6. Dictionaries, looping techniques, and sorting.\n",
    "#### Dictionaries are very useful generalizations of lists and tuples.  Unlike lists, dictionaries do not need to be indexed by numbers (e.g. `lst[0]` vs `dict['mykey']`). Hence, dictionaries are useful for keeping track of \"heterogeneous\" keys. \n",
    "#### Another useful looping technique is enumerate, which extracts both the element and its position in a list/tuple.\n",
    "#### In this exercise, we use dictionaries to tally the occurences of unique words in a text string `asimov_robot_rules` above. If you like the challenge, try to tally these occurences without looking at the hints below. \n",
    "#### If you are still reading, you've taken to using the hints. Essentially, we want to write a loop that does something like this in pseudocode:\n",
    "```python\n",
    "properly format list_of_words\n",
    "create word_dictionary \n",
    "for word in list_of_words:\n",
    "    update word_dictionary with position each word occurs in the list_of_words\n",
    "then count the number of times each word occurs in word_dictionary\n",
    "```\n",
    "\n",
    "##### Relevant reading: Python tutorial 5.5, 5.6.\n",
    "\n",
    "1. Can you explain what the function `add_to_dict` below does?\n",
    "```python\n",
    "def add_to_dict(in_dict, word, position):\n",
    "    if word in in_dict.keys():\n",
    "        in_dict[word].append(position)\n",
    "    else:\n",
    "        in_dict[word] = [position]\n",
    "```\n",
    "    * Hint: if `in_dict` is an input dictionary, what are its keys and values?\n",
    "2. Consider the list of strings `asimov_robot_rules` from above. Using `enumerate` create a list of sublists that specify the position of each word in `asimov_robot_rules`. I'm basically giving you the answer here, except you need to change the words to lower case and strip away the '.' and ',' (see Exercise 5.1). \n",
    "```python\n",
    "robot_pos = [(position,word) for position,word in enumerate(lowercased_stripped_asimov_robot_rules)]\n",
    "```\n",
    "    * As a check, the word 'as' occurs at the 48th position in this list.\n",
    "3. Now we will create a dictionary that keeps track of positions that each word occurs in the text string. \n",
    "    * Hint1: initialize an empty dictionary `ans_dict = {}`. We will use the `add_to_dict` function in step 1 to append word occurences in `asimov_robot_rules` to `ans_dict`.\n",
    "    * Hint2: What happens if you replace replace your list_comprehension answer in part 2 with `add_to_dict(ans_dict, position, word)` \n",
    "    * If you get this correct, the word 'a' occurs at positions [0,5,12,19,39]. \n",
    "4. Using `iteritems()` on the `ans_dict` dictionary from the part 3, write out a dictionary `unsorted_counts` that counts the number of occurence of each word. Here's the dictionary-comprehension version.\n",
    "```python\n",
    "unsorted_counts = {key:<do_something_to_value> for key,value in ans_dict.iteritems()}\n",
    ">>> print unsorted_counts \n",
    "{'harm': 1, 'own': 1, 'being': 2, 'it': 1, 'robot': 3, 'second': 1, 'through': 1, 'human': 3, 'existence': 1, 'its': 1, 'as': 2, 'given': 1, 'would': 1, 'injure': 1, 'come': 1, 'except': 1, 'long': 1, 'orders': 2, 'to': 2, 'does': 1, 'conflict': 2, 'inaction': 1, 'obey': 1, 'may': 1, 'protection': 1, 'not': 2, 'such': 2, 'law': 2, 'with': 2, 'by': 1, 'must': 2, 'a': 5, 'protect': 1, 'beings': 1, 'allow': 1, 'the': 2, 'where': 1, 'or': 2, 'first': 2}\n",
    "```\n",
    "5. The `sorted` function allows you to specify how to sort elements of a list/dictionary. The template program below uses Python's built-in `operator` module to sort the dictionary in part 4 by their occurence.\n",
    "    * Hint1: What does the program below do?\n",
    "```python\n",
    "import operator\n",
    "print sorted(unsorted_count.items(), key=operator.itemgetter(1))\n",
    "```\n",
    "    * Can you modify the `sorted` code in the last line to print the words by decreasing order of occurence? Hint: you can use reverse slicing (lst[-1::-1]) or the function `reversed`.\n",
    "    * What are the three words that occur most frequently? And how often do they occur (__Answer: ('a', 5), ('human', 3), ('robot', 3)__)?"
   ]
  },
  {
   "cell_type": "code",
   "execution_count": 15,
   "metadata": {
    "collapsed": true
   },
   "outputs": [],
   "source": [
    "#6.1 Explaination of the defined function 'add_to_dict'\n",
    "def add_to_dict(in_dict, word, position):\n",
    " if word in in_dict.keys():\n",
    "     in_dict[word].append(position)\n",
    " else:\n",
    "     in_dict[word] = [position]\n",
    "        \n",
    "# The function 'add_to_dict' which has 3 parameters viz in_dict, word and loc creates a dictionary \n",
    "# which contains a word(key) and location i.e. loc(value) of its occurance in the list of strings named \n",
    "#\"asimov_robot_rules\". The output dictionary is of the form {word1:[loc1, loc2, loc3], word2:[loc4, loc5]} etc."
   ]
  },
  {
   "cell_type": "code",
   "execution_count": 25,
   "metadata": {
    "collapsed": false
   },
   "outputs": [
    {
     "data": {
      "text/plain": [
       "[(0, 'a'),\n",
       " (1, 'robot'),\n",
       " (2, 'may'),\n",
       " (3, 'not'),\n",
       " (4, 'injure'),\n",
       " (5, 'a'),\n",
       " (6, 'human'),\n",
       " (7, 'being'),\n",
       " (8, 'or'),\n",
       " (9, 'through'),\n",
       " (10, 'inaction'),\n",
       " (11, 'allow'),\n",
       " (12, 'a'),\n",
       " (13, 'human'),\n",
       " (14, 'being'),\n",
       " (15, 'to'),\n",
       " (16, 'come'),\n",
       " (17, 'to'),\n",
       " (18, 'harm'),\n",
       " (19, 'a'),\n",
       " (20, 'robot'),\n",
       " (21, 'must'),\n",
       " (22, 'obey'),\n",
       " (23, 'orders'),\n",
       " (24, 'given'),\n",
       " (25, 'it'),\n",
       " (26, 'by'),\n",
       " (27, 'human'),\n",
       " (28, 'beings'),\n",
       " (29, 'except'),\n",
       " (30, 'where'),\n",
       " (31, 'such'),\n",
       " (32, 'orders'),\n",
       " (33, 'would'),\n",
       " (34, 'conflict'),\n",
       " (35, 'with'),\n",
       " (36, 'the'),\n",
       " (37, 'first'),\n",
       " (38, 'law'),\n",
       " (39, 'a'),\n",
       " (40, 'robot'),\n",
       " (41, 'must'),\n",
       " (42, 'protect'),\n",
       " (43, 'its'),\n",
       " (44, 'own'),\n",
       " (45, 'existence'),\n",
       " (46, 'as'),\n",
       " (47, 'long'),\n",
       " (48, 'as'),\n",
       " (49, 'such'),\n",
       " (50, 'protection'),\n",
       " (51, 'does'),\n",
       " (52, 'not'),\n",
       " (53, 'conflict'),\n",
       " (54, 'with'),\n",
       " (55, 'the'),\n",
       " (56, 'first'),\n",
       " (57, 'or'),\n",
       " (58, 'second'),\n",
       " (59, 'law')]"
      ]
     },
     "execution_count": 25,
     "metadata": {},
     "output_type": "execute_result"
    }
   ],
   "source": [
    "#6.2 Using enumerate create a list of sublists that specify the position of each word in asimov_robot_rules\n",
    "asimov_robot_rules = \"A robot may not injure a human being or, through inaction, allow a human being to come to harm. A robot must obey orders given it by human beings except where such orders would conflict with the First Law. A robot must protect its own existence as long as such protection does not conflict with the First or Second Law.\".split(' ') \n",
    "robot_pos = [(position, word) for position, word in enumerate(asimov_robot_rules2)]\n",
    "robot_pos"
   ]
  },
  {
   "cell_type": "code",
   "execution_count": 27,
   "metadata": {
    "collapsed": false
   },
   "outputs": [
    {
     "data": {
      "text/plain": [
       "{'a': [0, 5, 12, 19, 39],\n",
       " 'allow': [11],\n",
       " 'as': [46, 48],\n",
       " 'being': [7, 14],\n",
       " 'beings': [28],\n",
       " 'by': [26],\n",
       " 'come': [16],\n",
       " 'conflict': [34, 53],\n",
       " 'does': [51],\n",
       " 'except': [29],\n",
       " 'existence': [45],\n",
       " 'first': [37, 56],\n",
       " 'given': [24],\n",
       " 'harm': [18],\n",
       " 'human': [6, 13, 27],\n",
       " 'inaction': [10],\n",
       " 'injure': [4],\n",
       " 'it': [25],\n",
       " 'its': [43],\n",
       " 'law': [38, 59],\n",
       " 'long': [47],\n",
       " 'may': [2],\n",
       " 'must': [21, 41],\n",
       " 'not': [3, 52],\n",
       " 'obey': [22],\n",
       " 'or': [8, 57],\n",
       " 'orders': [23, 32],\n",
       " 'own': [44],\n",
       " 'protect': [42],\n",
       " 'protection': [50],\n",
       " 'robot': [1, 20, 40],\n",
       " 'second': [58],\n",
       " 'such': [31, 49],\n",
       " 'the': [36, 55],\n",
       " 'through': [9],\n",
       " 'to': [15, 17],\n",
       " 'where': [30],\n",
       " 'with': [35, 54],\n",
       " 'would': [33]}"
      ]
     },
     "execution_count": 27,
     "metadata": {},
     "output_type": "execute_result"
    }
   ],
   "source": [
    "#6.3 Create a dictionary that keeps a track of position of occurrence of each word in the list 'robot_pos'.robot_pos\n",
    "def add_to_dict(in_dict, word, position):\n",
    " if word in in_dict.keys():\n",
    "     in_dict[word].append(position)\n",
    " else:\n",
    "     in_dict[word] = [position]\n",
    "robot_pos = [[i, v] for i, v in enumerate(asimov_robot_rules2)]\n",
    "ans_dict = {}\n",
    "for word in robot_pos:\n",
    "    add_to_dict(ans_dict, word[1], word[0])\n",
    "ans_dict"
   ]
  },
  {
   "cell_type": "code",
   "execution_count": 36,
   "metadata": {
    "collapsed": false
   },
   "outputs": [
    {
     "name": "stdout",
     "output_type": "stream",
     "text": [
      "{'harm': 1, 'own': 1, 'being': 2, 'it': 1, 'robot': 3, 'second': 1, 'through': 1, 'human': 3, 'existence': 1, 'its': 1, 'as': 2, 'given': 1, 'would': 1, 'injure': 1, 'come': 1, 'except': 1, 'long': 1, 'orders': 2, 'to': 2, 'does': 1, 'conflict': 2, 'inaction': 1, 'obey': 1, 'may': 1, 'protection': 1, 'not': 2, 'such': 2, 'law': 2, 'with': 2, 'by': 1, 'must': 2, 'a': 5, 'protect': 1, 'beings': 1, 'allow': 1, 'the': 2, 'where': 1, 'or': 2, 'first': 2}\n"
     ]
    }
   ],
   "source": [
    "#6.4 Using iteritems() write out a dictionary unsorted_counts that counts the number of occurence of each word in \n",
    "# the ans-dict dictionary.\n",
    "unsorted_counts = { key:len(value) for key, value in ans_dict.iteritems()}\n",
    "print unsorted_counts"
   ]
  },
  {
   "cell_type": "code",
   "execution_count": 38,
   "metadata": {
    "collapsed": false
   },
   "outputs": [
    {
     "name": "stdout",
     "output_type": "stream",
     "text": [
      "[('a', 5), ('human', 3), ('robot', 3), ('first', 2), ('or', 2), ('the', 2), ('must', 2), ('with', 2), ('law', 2), ('such', 2), ('not', 2), ('conflict', 2), ('to', 2), ('orders', 2), ('as', 2), ('being', 2), ('where', 1), ('allow', 1), ('beings', 1), ('protect', 1), ('by', 1), ('protection', 1), ('may', 1), ('obey', 1), ('inaction', 1), ('does', 1), ('long', 1), ('except', 1), ('come', 1), ('injure', 1), ('would', 1), ('given', 1), ('its', 1), ('existence', 1), ('through', 1), ('second', 1), ('it', 1), ('own', 1), ('harm', 1)]\n"
     ]
    }
   ],
   "source": [
    "#6.5 Using in- built python module named 'operator' and sorted() function, sort words of dictionary 'unsorted_count' \n",
    "#by their occurence.\n",
    "import operator\n",
    "lst = (sorted(unsorted_counts.items(), key=operator.itemgetter(1)))\n",
    "print lst[-1::-1]"
   ]
  },
  {
   "cell_type": "code",
   "execution_count": 20,
   "metadata": {
    "collapsed": true
   },
   "outputs": [],
   "source": [
    "#6.5 Most frequently occurred words in the dictionary 'unsorted-counts'.\n",
    "#Following 3 words occur most frequently;\n",
    "#('a', 5)\n",
    "#('robot', 3)\n",
    "#('human', 3)"
   ]
  }
 ],
 "metadata": {
  "kernelspec": {
   "display_name": "Python 2",
   "language": "python",
   "name": "python2"
  },
  "language_info": {
   "codemirror_mode": {
    "name": "ipython",
    "version": 2
   },
   "file_extension": ".py",
   "mimetype": "text/x-python",
   "name": "python",
   "nbconvert_exporter": "python",
   "pygments_lexer": "ipython2",
   "version": "2.7.6"
  }
 },
 "nbformat": 4,
 "nbformat_minor": 0
}
