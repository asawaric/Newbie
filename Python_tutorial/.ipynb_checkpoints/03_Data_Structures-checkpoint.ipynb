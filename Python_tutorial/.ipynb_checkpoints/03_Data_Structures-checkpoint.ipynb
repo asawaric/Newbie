{
 "cells": [
  {
   "cell_type": "markdown",
   "metadata": {},
   "source": [
    "# Data structures\n",
    "\n",
    "You should be familiar with the following topics before endeavoring on this exercise. A comprehensive tutorial on data structures can be found at https://docs.python.org/2/tutorial/datastructures.html\n",
    "\n",
    "* Lists as stacks (last-in, first-out)\n",
    "* Lists as queues (first-in, first-out)\n",
    "* Functional programming tools\n",
    "* List comprehension and nested list comprehension\n",
    "* The ```del``` statement\n",
    "* Tuples and sequences\n",
    "* Sets\n",
    "* Dictionaries\n"
   ]
  },
  {
   "cell_type": "markdown",
   "metadata": {},
   "source": [
    "---\n",
    "### Exercise 1: Appending to lists\n",
    "\n",
    "1. Write a program that sequentially prompts a user for strings that are then appended to a list. Once all entries to the list are entered, print the entries of the list in reverse order (e.g. last entry is printed first). Both lists and deques can accomplish this. A hint program that does something similar is shown below.\n",
    "```python\n",
    "ans_array = []\n",
    "while True:\n",
    "    in_str = raw_input(\"Enter a string to be appended to this list. Type ! to discontinue\\n\")\n",
    "    if in_str not in ['!']: \n",
    "        ans_array.append(in_str)\n",
    "    else:\n",
    "        break\n",
    "print \"*\"*80, \"\\n\"\n",
    "for a in ans_array:\n",
    "    print a\n",
    "```"
   ]
  },
  {
   "cell_type": "code",
   "execution_count": 2,
   "metadata": {
    "collapsed": false
   },
   "outputs": [
    {
     "name": "stdout",
     "output_type": "stream",
     "text": [
      "Enter a string to be appended to this list. Type ! to discontinue\n",
      "yes\n",
      "Enter a string to be appended to this list. Type ! to discontinue\n",
      "no\n",
      "Enter a string to be appended to this list. Type ! to discontinue\n",
      "far\n",
      "Enter a string to be appended to this list. Type ! to discontinue\n",
      "what\n",
      "Enter a string to be appended to this list. Type ! to discontinue\n",
      "!\n",
      "******************************************************************************** \n",
      "\n",
      "yes\n",
      "no\n",
      "far\n",
      "what\n"
     ]
    }
   ],
   "source": [
    "ans_array = []\n",
    "while True:\n",
    "    in_str = raw_input(\"Enter a string to be appended to this list. Type ! to discontinue\\n\")\n",
    "    if in_str not in ['!']: \n",
    "        ans_array.append(in_str)\n",
    "    else:\n",
    "        break\n",
    "print \"*\"*80, \"\\n\"\n",
    "for a in ans_array:\n",
    "    print a"
   ]
  },
  {
   "cell_type": "markdown",
   "metadata": {},
   "source": [
    "---\n",
    "### Exercise 2: Filtering, Mapping, and Reducing \n",
    "1. Using the *filter* function, find all the **even** integers from 1 to 200 that are divisible by 13. Here's a hint program:\n",
    "```python\n",
    "def divisible_by_13(x): return ((x%13)==0)\n",
    "filter(divisible_by_13, range(1,200))\n",
    "```\n",
    "2. Modify your program in the last part, by adding the use of the *reduce* function, to return the product of these numbers. Hint: the answer is **1653506564735025**.\n",
    "3. Modify your program in the last part, now using the *map* function, to return the sum of the squares of all even numbers from 1 to 200 that are divisible by 13. Hint: the answer is **114920**."
   ]
  },
  {
   "cell_type": "code",
   "execution_count": 25,
   "metadata": {
    "collapsed": false
   },
   "outputs": [
    {
     "data": {
      "text/plain": [
       "114920"
      ]
     },
     "execution_count": 25,
     "metadata": {},
     "output_type": "execute_result"
    }
   ],
   "source": [
    "# My answer to the third part is written below. \n",
    "# This answer should be moved to an answers file before releasing to students.\n",
    "def divisible_by_13(x): return ((x%13)==0)&((x%2)!=0)\n",
    "def sum(x,y): return x+y\n",
    "def squared(x): return x*x\n",
    "reduce(sum, map(squared, filter(divisible_by_13, range(1,200))))"
   ]
  }
 ],
 "metadata": {
  "kernelspec": {
   "display_name": "Python 2",
   "language": "python",
   "name": "python2"
  },
  "language_info": {
   "codemirror_mode": {
    "name": "ipython",
    "version": 2
   },
   "file_extension": ".py",
   "mimetype": "text/x-python",
   "name": "python",
   "nbconvert_exporter": "python",
   "pygments_lexer": "ipython2",
   "version": "2.7.6"
  }
 },
 "nbformat": 4,
 "nbformat_minor": 0
}
