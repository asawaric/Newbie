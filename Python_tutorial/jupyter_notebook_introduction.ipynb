{
 "cells": [
  {
   "cell_type": "markdown",
   "metadata": {},
   "source": [
    "Jupyter Notebook formerly known as IPython Notebook is an interactive computational environment, in which you can combine code execution, equations, plots, visualizations and explanatory text for data cleaning and transformation, numerical simulation, statistical modeling, machine learning etc."
   ]
  },
  {
   "cell_type": "markdown",
   "metadata": {},
   "source": [
    "Jupyter Architecture\n",
    "The Jupyter Notebook is based on a set of open standards for interactive computing. These open standards can be leveraged by third party developers to build customized applications with interactive computing.\n",
    "\n",
    "Notebook Document\n",
    "'Notebook Documents' or 'notebooks' are documents produced by the Jupyter Notebook App which contain both computer  code(e.g.Python) and rich text elements (paragraph, equations, figures, links etc.) Notebook documents are both human-readable documents containing the analysis description and the results(figures, tables, etc...)as well as executable documents which can be run to perform data analysis.\n",
    "\n",
    "The Notebook document format\n",
    "Jupyter Notebooks are an open document format based on JSON (JavaScript Object Notation). They contain complete record of the user's sessions and embed code, narrative text, equations and output.\n",
    "\n",
    "Interactive computing protocol\n",
    "The Notebook communicates with computational Kernels using the Interactive Computing Protocol, an open network protocol based on JSON data.\n",
    "\n",
    "The Kernel\n",
    "Kernels are processes that run interactive code in a particular programming language and return output to the user. Kernels also respond to tab completion and interospection requests.\n",
    "\n",
    "Notebook dashboard\n",
    "Notebook dashboard is the component which is shown first when launching Jupyter Notebook. It is mainly used to open notebook documents and to manage the running kernels (Visualize and Shutdown). It also has other features similar to a file manager, namely navigating folders and renaming/deleting files.\n",
    "\n",
    "For more details, see http://jupyter-notebook-beginner-guide.readthedocs.io/en/latest/what_is_jupyter.html\n",
    "and http://jupyter.org/\n"
   ]
  },
  {
   "cell_type": "markdown",
   "metadata": {},
   "source": [
    "Installing Jupyter Notebook \n",
    "To install Jupyter, Python (Python 2.7 or Python 3.3 or greater) is a required. For this tutorial, Python 2.7.11 is recommended.\n",
    "On Debian-based systems (e.g.Ubuntu), install Jupyter with following command: \n",
    " apt-get install build-essential python-dev\n",
    " \n",
    "For more details, see http://jupyter.readthedocs.io/en/latest/install.html\n",
    "\n",
    "Launching Jupyter Notebook\n",
    "To launch Jupyter Notebook App:\n",
    "\n",
    "1. Open terminal to open a terminal window.\n",
    "2. Change the directory to one where you want to have your Jupyter Notebooks e.g. cd ~/My_local_repo/Python_Tyro\n",
    "3. Type jupyter notebook to launch the Jupyter Notebook App (it will appear in a new browser window or tab).\n"
   ]
  }
 ],
 "metadata": {
  "kernelspec": {
   "display_name": "Python 2",
   "language": "python",
   "name": "python2"
  },
  "language_info": {
   "codemirror_mode": {
    "name": "ipython",
    "version": 2
   },
   "file_extension": ".py",
   "mimetype": "text/x-python",
   "name": "python",
   "nbconvert_exporter": "python",
   "pygments_lexer": "ipython2",
   "version": "2.7.6"
  }
 },
 "nbformat": 4,
 "nbformat_minor": 0
}
