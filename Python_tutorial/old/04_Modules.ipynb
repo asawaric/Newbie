{
 "cells": [
  {
   "cell_type": "markdown",
   "metadata": {},
   "source": [
    "# 4. Modules"
   ]
  },
  {
   "cell_type": "markdown",
   "metadata": {},
   "source": [
    "A module is a file containing Python definitions and statements. The file name is the module name with the suffix .py appended. The details about modules in python can be read here https://docs.python.org/2/tutorial/modules.html"
   ]
  },
  {
   "cell_type": "markdown",
   "metadata": {},
   "source": [
    "Exercises of this chapter are based on following concepts:\n",
    "* Executing modules as scripts\n",
    "* The modules search path\n",
    "* Compiled Python files\n",
    "* Standard Modules\n",
    "* The dir() function\n",
    "* Importing from a package\n",
    "* Intra-package references\n",
    "* Packages in multiple directories"
   ]
  },
  {
   "cell_type": "markdown",
   "metadata": {},
   "source": [
    "### Exercise 1. Executing modules as scripts "
   ]
  },
  {
   "cell_type": "code",
   "execution_count": null,
   "metadata": {
    "collapsed": true
   },
   "outputs": [],
   "source": []
  }
 ],
 "metadata": {
  "kernelspec": {
   "display_name": "Python 2",
   "language": "python",
   "name": "python2"
  },
  "language_info": {
   "codemirror_mode": {
    "name": "ipython",
    "version": 2
   },
   "file_extension": ".py",
   "mimetype": "text/x-python",
   "name": "python",
   "nbconvert_exporter": "python",
   "pygments_lexer": "ipython2",
   "version": "2.7.6"
  }
 },
 "nbformat": 4,
 "nbformat_minor": 0
}
